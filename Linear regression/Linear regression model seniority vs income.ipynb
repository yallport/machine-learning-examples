{
 "cells": [
  {
   "cell_type": "code",
   "execution_count": 4,
   "metadata": {
    "collapsed": true
   },
   "outputs": [],
   "source": [
    "import autograd.numpy as np\n",
    "import pandas as pd\n",
    "% matplotlib inline"
   ]
  },
  {
   "cell_type": "code",
   "execution_count": 13,
   "metadata": {},
   "outputs": [
    {
     "data": {
      "text/html": [
       "\n",
       "    <div class=\"bk-root\">\n",
       "        <a href=\"https://bokeh.pydata.org\" target=\"_blank\" class=\"bk-logo bk-logo-small bk-logo-notebook\"></a>\n",
       "        <span id=\"080a697b-558f-4229-9f35-142b4e13b9cb\">Loading BokehJS ...</span>\n",
       "    </div>"
      ]
     },
     "metadata": {},
     "output_type": "display_data"
    },
    {
     "data": {
      "application/javascript": [
       "\n",
       "(function(root) {\n",
       "  function now() {\n",
       "    return new Date();\n",
       "  }\n",
       "\n",
       "  var force = true;\n",
       "\n",
       "  if (typeof (root._bokeh_onload_callbacks) === \"undefined\" || force === true) {\n",
       "    root._bokeh_onload_callbacks = [];\n",
       "    root._bokeh_is_loading = undefined;\n",
       "  }\n",
       "\n",
       "  var JS_MIME_TYPE = 'application/javascript';\n",
       "  var HTML_MIME_TYPE = 'text/html';\n",
       "  var EXEC_MIME_TYPE = 'application/vnd.bokehjs_exec.v0+json';\n",
       "  var CLASS_NAME = 'output_bokeh rendered_html';\n",
       "\n",
       "  /**\n",
       "   * Render data to the DOM node\n",
       "   */\n",
       "  function render(props, node) {\n",
       "    var script = document.createElement(\"script\");\n",
       "    node.appendChild(script);\n",
       "  }\n",
       "\n",
       "  /**\n",
       "   * Handle when an output is cleared or removed\n",
       "   */\n",
       "  function handleClearOutput(event, handle) {\n",
       "    var cell = handle.cell;\n",
       "\n",
       "    var id = cell.output_area._bokeh_element_id;\n",
       "    var server_id = cell.output_area._bokeh_server_id;\n",
       "    // Clean up Bokeh references\n",
       "    if (id !== undefined) {\n",
       "      Bokeh.index[id].model.document.clear();\n",
       "      delete Bokeh.index[id];\n",
       "    }\n",
       "\n",
       "    if (server_id !== undefined) {\n",
       "      // Clean up Bokeh references\n",
       "      var cmd = \"from bokeh.io.state import curstate; print(curstate().uuid_to_server['\" + server_id + \"'].get_sessions()[0].document.roots[0]._id)\";\n",
       "      cell.notebook.kernel.execute(cmd, {\n",
       "        iopub: {\n",
       "          output: function(msg) {\n",
       "            var element_id = msg.content.text.trim();\n",
       "            Bokeh.index[element_id].model.document.clear();\n",
       "            delete Bokeh.index[element_id];\n",
       "          }\n",
       "        }\n",
       "      });\n",
       "      // Destroy server and session\n",
       "      var cmd = \"import bokeh.io.notebook as ion; ion.destroy_server('\" + server_id + \"')\";\n",
       "      cell.notebook.kernel.execute(cmd);\n",
       "    }\n",
       "  }\n",
       "\n",
       "  /**\n",
       "   * Handle when a new output is added\n",
       "   */\n",
       "  function handleAddOutput(event, handle) {\n",
       "    var output_area = handle.output_area;\n",
       "    var output = handle.output;\n",
       "\n",
       "    // limit handleAddOutput to display_data with EXEC_MIME_TYPE content only\n",
       "    if ((output.output_type != \"display_data\") || (!output.data.hasOwnProperty(EXEC_MIME_TYPE))) {\n",
       "      return\n",
       "    }\n",
       "\n",
       "    var toinsert = output_area.element.find(`.${CLASS_NAME.split(' ')[0]}`);\n",
       "\n",
       "    if (output.metadata[EXEC_MIME_TYPE][\"id\"] !== undefined) {\n",
       "      toinsert[0].firstChild.textContent = output.data[JS_MIME_TYPE];\n",
       "      // store reference to embed id on output_area\n",
       "      output_area._bokeh_element_id = output.metadata[EXEC_MIME_TYPE][\"id\"];\n",
       "    }\n",
       "    if (output.metadata[EXEC_MIME_TYPE][\"server_id\"] !== undefined) {\n",
       "      var bk_div = document.createElement(\"div\");\n",
       "      bk_div.innerHTML = output.data[HTML_MIME_TYPE];\n",
       "      var script_attrs = bk_div.children[0].attributes;\n",
       "      for (var i = 0; i < script_attrs.length; i++) {\n",
       "        toinsert[0].firstChild.setAttribute(script_attrs[i].name, script_attrs[i].value);\n",
       "      }\n",
       "      // store reference to server id on output_area\n",
       "      output_area._bokeh_server_id = output.metadata[EXEC_MIME_TYPE][\"server_id\"];\n",
       "    }\n",
       "  }\n",
       "\n",
       "  function register_renderer(events, OutputArea) {\n",
       "\n",
       "    function append_mime(data, metadata, element) {\n",
       "      // create a DOM node to render to\n",
       "      var toinsert = this.create_output_subarea(\n",
       "        metadata,\n",
       "        CLASS_NAME,\n",
       "        EXEC_MIME_TYPE\n",
       "      );\n",
       "      this.keyboard_manager.register_events(toinsert);\n",
       "      // Render to node\n",
       "      var props = {data: data, metadata: metadata[EXEC_MIME_TYPE]};\n",
       "      render(props, toinsert[0]);\n",
       "      element.append(toinsert);\n",
       "      return toinsert\n",
       "    }\n",
       "\n",
       "    /* Handle when an output is cleared or removed */\n",
       "    events.on('clear_output.CodeCell', handleClearOutput);\n",
       "    events.on('delete.Cell', handleClearOutput);\n",
       "\n",
       "    /* Handle when a new output is added */\n",
       "    events.on('output_added.OutputArea', handleAddOutput);\n",
       "\n",
       "    /**\n",
       "     * Register the mime type and append_mime function with output_area\n",
       "     */\n",
       "    OutputArea.prototype.register_mime_type(EXEC_MIME_TYPE, append_mime, {\n",
       "      /* Is output safe? */\n",
       "      safe: true,\n",
       "      /* Index of renderer in `output_area.display_order` */\n",
       "      index: 0\n",
       "    });\n",
       "  }\n",
       "\n",
       "  // register the mime type if in Jupyter Notebook environment and previously unregistered\n",
       "  if (root.Jupyter !== undefined) {\n",
       "    var events = require('base/js/events');\n",
       "    var OutputArea = require('notebook/js/outputarea').OutputArea;\n",
       "\n",
       "    if (OutputArea.prototype.mime_types().indexOf(EXEC_MIME_TYPE) == -1) {\n",
       "      register_renderer(events, OutputArea);\n",
       "    }\n",
       "  }\n",
       "\n",
       "  \n",
       "  if (typeof (root._bokeh_timeout) === \"undefined\" || force === true) {\n",
       "    root._bokeh_timeout = Date.now() + 5000;\n",
       "    root._bokeh_failed_load = false;\n",
       "  }\n",
       "\n",
       "  var NB_LOAD_WARNING = {'data': {'text/html':\n",
       "     \"<div style='background-color: #fdd'>\\n\"+\n",
       "     \"<p>\\n\"+\n",
       "     \"BokehJS does not appear to have successfully loaded. If loading BokehJS from CDN, this \\n\"+\n",
       "     \"may be due to a slow or bad network connection. Possible fixes:\\n\"+\n",
       "     \"</p>\\n\"+\n",
       "     \"<ul>\\n\"+\n",
       "     \"<li>re-rerun `output_notebook()` to attempt to load from CDN again, or</li>\\n\"+\n",
       "     \"<li>use INLINE resources instead, as so:</li>\\n\"+\n",
       "     \"</ul>\\n\"+\n",
       "     \"<code>\\n\"+\n",
       "     \"from bokeh.resources import INLINE\\n\"+\n",
       "     \"output_notebook(resources=INLINE)\\n\"+\n",
       "     \"</code>\\n\"+\n",
       "     \"</div>\"}};\n",
       "\n",
       "  function display_loaded() {\n",
       "    var el = document.getElementById(\"080a697b-558f-4229-9f35-142b4e13b9cb\");\n",
       "    if (el != null) {\n",
       "      el.textContent = \"BokehJS is loading...\";\n",
       "    }\n",
       "    if (root.Bokeh !== undefined) {\n",
       "      if (el != null) {\n",
       "        el.textContent = \"BokehJS \" + root.Bokeh.version + \" successfully loaded.\";\n",
       "      }\n",
       "    } else if (Date.now() < root._bokeh_timeout) {\n",
       "      setTimeout(display_loaded, 100)\n",
       "    }\n",
       "  }\n",
       "\n",
       "\n",
       "  function run_callbacks() {\n",
       "    try {\n",
       "      root._bokeh_onload_callbacks.forEach(function(callback) { callback() });\n",
       "    }\n",
       "    finally {\n",
       "      delete root._bokeh_onload_callbacks\n",
       "    }\n",
       "    console.info(\"Bokeh: all callbacks have finished\");\n",
       "  }\n",
       "\n",
       "  function load_libs(js_urls, callback) {\n",
       "    root._bokeh_onload_callbacks.push(callback);\n",
       "    if (root._bokeh_is_loading > 0) {\n",
       "      console.log(\"Bokeh: BokehJS is being loaded, scheduling callback at\", now());\n",
       "      return null;\n",
       "    }\n",
       "    if (js_urls == null || js_urls.length === 0) {\n",
       "      run_callbacks();\n",
       "      return null;\n",
       "    }\n",
       "    console.log(\"Bokeh: BokehJS not loaded, scheduling load and callback at\", now());\n",
       "    root._bokeh_is_loading = js_urls.length;\n",
       "    for (var i = 0; i < js_urls.length; i++) {\n",
       "      var url = js_urls[i];\n",
       "      var s = document.createElement('script');\n",
       "      s.src = url;\n",
       "      s.async = false;\n",
       "      s.onreadystatechange = s.onload = function() {\n",
       "        root._bokeh_is_loading--;\n",
       "        if (root._bokeh_is_loading === 0) {\n",
       "          console.log(\"Bokeh: all BokehJS libraries loaded\");\n",
       "          run_callbacks()\n",
       "        }\n",
       "      };\n",
       "      s.onerror = function() {\n",
       "        console.warn(\"failed to load library \" + url);\n",
       "      };\n",
       "      console.log(\"Bokeh: injecting script tag for BokehJS library: \", url);\n",
       "      document.getElementsByTagName(\"head\")[0].appendChild(s);\n",
       "    }\n",
       "  };var element = document.getElementById(\"080a697b-558f-4229-9f35-142b4e13b9cb\");\n",
       "  if (element == null) {\n",
       "    console.log(\"Bokeh: ERROR: autoload.js configured with elementid '080a697b-558f-4229-9f35-142b4e13b9cb' but no matching script tag was found. \")\n",
       "    return false;\n",
       "  }\n",
       "\n",
       "  var js_urls = [\"https://cdn.pydata.org/bokeh/release/bokeh-0.12.10.min.js\", \"https://cdn.pydata.org/bokeh/release/bokeh-widgets-0.12.10.min.js\", \"https://cdn.pydata.org/bokeh/release/bokeh-tables-0.12.10.min.js\", \"https://cdn.pydata.org/bokeh/release/bokeh-gl-0.12.10.min.js\"];\n",
       "\n",
       "  var inline_js = [\n",
       "    function(Bokeh) {\n",
       "      Bokeh.set_log_level(\"info\");\n",
       "    },\n",
       "    \n",
       "    function(Bokeh) {\n",
       "      \n",
       "    },\n",
       "    function(Bokeh) {\n",
       "      console.log(\"Bokeh: injecting CSS: https://cdn.pydata.org/bokeh/release/bokeh-0.12.10.min.css\");\n",
       "      Bokeh.embed.inject_css(\"https://cdn.pydata.org/bokeh/release/bokeh-0.12.10.min.css\");\n",
       "      console.log(\"Bokeh: injecting CSS: https://cdn.pydata.org/bokeh/release/bokeh-widgets-0.12.10.min.css\");\n",
       "      Bokeh.embed.inject_css(\"https://cdn.pydata.org/bokeh/release/bokeh-widgets-0.12.10.min.css\");\n",
       "      console.log(\"Bokeh: injecting CSS: https://cdn.pydata.org/bokeh/release/bokeh-tables-0.12.10.min.css\");\n",
       "      Bokeh.embed.inject_css(\"https://cdn.pydata.org/bokeh/release/bokeh-tables-0.12.10.min.css\");\n",
       "    }\n",
       "  ];\n",
       "\n",
       "  function run_inline_js() {\n",
       "    \n",
       "    if ((root.Bokeh !== undefined) || (force === true)) {\n",
       "      for (var i = 0; i < inline_js.length; i++) {\n",
       "        inline_js[i].call(root, root.Bokeh);\n",
       "      }if (force === true) {\n",
       "        display_loaded();\n",
       "      }} else if (Date.now() < root._bokeh_timeout) {\n",
       "      setTimeout(run_inline_js, 100);\n",
       "    } else if (!root._bokeh_failed_load) {\n",
       "      console.log(\"Bokeh: BokehJS failed to load within specified timeout.\");\n",
       "      root._bokeh_failed_load = true;\n",
       "    } else if (force !== true) {\n",
       "      var cell = $(document.getElementById(\"080a697b-558f-4229-9f35-142b4e13b9cb\")).parents('.cell').data().cell;\n",
       "      cell.output_area.append_execute_result(NB_LOAD_WARNING)\n",
       "    }\n",
       "\n",
       "  }\n",
       "\n",
       "  if (root._bokeh_is_loading === 0) {\n",
       "    console.log(\"Bokeh: BokehJS loaded, going straight to plotting\");\n",
       "    run_inline_js();\n",
       "  } else {\n",
       "    load_libs(js_urls, function() {\n",
       "      console.log(\"Bokeh: BokehJS plotting callback run at\", now());\n",
       "      run_inline_js();\n",
       "    });\n",
       "  }\n",
       "}(window));"
      ],
      "application/vnd.bokehjs_load.v0+json": "\n(function(root) {\n  function now() {\n    return new Date();\n  }\n\n  var force = true;\n\n  if (typeof (root._bokeh_onload_callbacks) === \"undefined\" || force === true) {\n    root._bokeh_onload_callbacks = [];\n    root._bokeh_is_loading = undefined;\n  }\n\n  \n\n  \n  if (typeof (root._bokeh_timeout) === \"undefined\" || force === true) {\n    root._bokeh_timeout = Date.now() + 5000;\n    root._bokeh_failed_load = false;\n  }\n\n  var NB_LOAD_WARNING = {'data': {'text/html':\n     \"<div style='background-color: #fdd'>\\n\"+\n     \"<p>\\n\"+\n     \"BokehJS does not appear to have successfully loaded. If loading BokehJS from CDN, this \\n\"+\n     \"may be due to a slow or bad network connection. Possible fixes:\\n\"+\n     \"</p>\\n\"+\n     \"<ul>\\n\"+\n     \"<li>re-rerun `output_notebook()` to attempt to load from CDN again, or</li>\\n\"+\n     \"<li>use INLINE resources instead, as so:</li>\\n\"+\n     \"</ul>\\n\"+\n     \"<code>\\n\"+\n     \"from bokeh.resources import INLINE\\n\"+\n     \"output_notebook(resources=INLINE)\\n\"+\n     \"</code>\\n\"+\n     \"</div>\"}};\n\n  function display_loaded() {\n    var el = document.getElementById(\"080a697b-558f-4229-9f35-142b4e13b9cb\");\n    if (el != null) {\n      el.textContent = \"BokehJS is loading...\";\n    }\n    if (root.Bokeh !== undefined) {\n      if (el != null) {\n        el.textContent = \"BokehJS \" + root.Bokeh.version + \" successfully loaded.\";\n      }\n    } else if (Date.now() < root._bokeh_timeout) {\n      setTimeout(display_loaded, 100)\n    }\n  }\n\n\n  function run_callbacks() {\n    try {\n      root._bokeh_onload_callbacks.forEach(function(callback) { callback() });\n    }\n    finally {\n      delete root._bokeh_onload_callbacks\n    }\n    console.info(\"Bokeh: all callbacks have finished\");\n  }\n\n  function load_libs(js_urls, callback) {\n    root._bokeh_onload_callbacks.push(callback);\n    if (root._bokeh_is_loading > 0) {\n      console.log(\"Bokeh: BokehJS is being loaded, scheduling callback at\", now());\n      return null;\n    }\n    if (js_urls == null || js_urls.length === 0) {\n      run_callbacks();\n      return null;\n    }\n    console.log(\"Bokeh: BokehJS not loaded, scheduling load and callback at\", now());\n    root._bokeh_is_loading = js_urls.length;\n    for (var i = 0; i < js_urls.length; i++) {\n      var url = js_urls[i];\n      var s = document.createElement('script');\n      s.src = url;\n      s.async = false;\n      s.onreadystatechange = s.onload = function() {\n        root._bokeh_is_loading--;\n        if (root._bokeh_is_loading === 0) {\n          console.log(\"Bokeh: all BokehJS libraries loaded\");\n          run_callbacks()\n        }\n      };\n      s.onerror = function() {\n        console.warn(\"failed to load library \" + url);\n      };\n      console.log(\"Bokeh: injecting script tag for BokehJS library: \", url);\n      document.getElementsByTagName(\"head\")[0].appendChild(s);\n    }\n  };var element = document.getElementById(\"080a697b-558f-4229-9f35-142b4e13b9cb\");\n  if (element == null) {\n    console.log(\"Bokeh: ERROR: autoload.js configured with elementid '080a697b-558f-4229-9f35-142b4e13b9cb' but no matching script tag was found. \")\n    return false;\n  }\n\n  var js_urls = [\"https://cdn.pydata.org/bokeh/release/bokeh-0.12.10.min.js\", \"https://cdn.pydata.org/bokeh/release/bokeh-widgets-0.12.10.min.js\", \"https://cdn.pydata.org/bokeh/release/bokeh-tables-0.12.10.min.js\", \"https://cdn.pydata.org/bokeh/release/bokeh-gl-0.12.10.min.js\"];\n\n  var inline_js = [\n    function(Bokeh) {\n      Bokeh.set_log_level(\"info\");\n    },\n    \n    function(Bokeh) {\n      \n    },\n    function(Bokeh) {\n      console.log(\"Bokeh: injecting CSS: https://cdn.pydata.org/bokeh/release/bokeh-0.12.10.min.css\");\n      Bokeh.embed.inject_css(\"https://cdn.pydata.org/bokeh/release/bokeh-0.12.10.min.css\");\n      console.log(\"Bokeh: injecting CSS: https://cdn.pydata.org/bokeh/release/bokeh-widgets-0.12.10.min.css\");\n      Bokeh.embed.inject_css(\"https://cdn.pydata.org/bokeh/release/bokeh-widgets-0.12.10.min.css\");\n      console.log(\"Bokeh: injecting CSS: https://cdn.pydata.org/bokeh/release/bokeh-tables-0.12.10.min.css\");\n      Bokeh.embed.inject_css(\"https://cdn.pydata.org/bokeh/release/bokeh-tables-0.12.10.min.css\");\n    }\n  ];\n\n  function run_inline_js() {\n    \n    if ((root.Bokeh !== undefined) || (force === true)) {\n      for (var i = 0; i < inline_js.length; i++) {\n        inline_js[i].call(root, root.Bokeh);\n      }if (force === true) {\n        display_loaded();\n      }} else if (Date.now() < root._bokeh_timeout) {\n      setTimeout(run_inline_js, 100);\n    } else if (!root._bokeh_failed_load) {\n      console.log(\"Bokeh: BokehJS failed to load within specified timeout.\");\n      root._bokeh_failed_load = true;\n    } else if (force !== true) {\n      var cell = $(document.getElementById(\"080a697b-558f-4229-9f35-142b4e13b9cb\")).parents('.cell').data().cell;\n      cell.output_area.append_execute_result(NB_LOAD_WARNING)\n    }\n\n  }\n\n  if (root._bokeh_is_loading === 0) {\n    console.log(\"Bokeh: BokehJS loaded, going straight to plotting\");\n    run_inline_js();\n  } else {\n    load_libs(js_urls, function() {\n      console.log(\"Bokeh: BokehJS plotting callback run at\", now());\n      run_inline_js();\n    });\n  }\n}(window));"
     },
     "metadata": {},
     "output_type": "display_data"
    }
   ],
   "source": [
    "from autograd import grad\n",
    "from bokeh.plotting import output_notebook, figure, show\n",
    "output_notebook()"
   ]
  },
  {
   "cell_type": "code",
   "execution_count": 14,
   "metadata": {},
   "outputs": [
    {
     "data": {
      "text/html": [
       "<div>\n",
       "<style>\n",
       "    .dataframe thead tr:only-child th {\n",
       "        text-align: right;\n",
       "    }\n",
       "\n",
       "    .dataframe thead th {\n",
       "        text-align: left;\n",
       "    }\n",
       "\n",
       "    .dataframe tbody tr th {\n",
       "        vertical-align: top;\n",
       "    }\n",
       "</style>\n",
       "<table border=\"1\" class=\"dataframe\">\n",
       "  <thead>\n",
       "    <tr style=\"text-align: right;\">\n",
       "      <th></th>\n",
       "      <th>Unnamed: 0</th>\n",
       "      <th>Education</th>\n",
       "      <th>Seniority</th>\n",
       "      <th>Income</th>\n",
       "    </tr>\n",
       "  </thead>\n",
       "  <tbody>\n",
       "    <tr>\n",
       "      <th>23</th>\n",
       "      <td>24</td>\n",
       "      <td>10.413793</td>\n",
       "      <td>32.413793</td>\n",
       "      <td>18.570665</td>\n",
       "    </tr>\n",
       "    <tr>\n",
       "      <th>24</th>\n",
       "      <td>25</td>\n",
       "      <td>21.586207</td>\n",
       "      <td>20.000000</td>\n",
       "      <td>78.805784</td>\n",
       "    </tr>\n",
       "    <tr>\n",
       "      <th>25</th>\n",
       "      <td>26</td>\n",
       "      <td>11.241379</td>\n",
       "      <td>44.827586</td>\n",
       "      <td>21.388561</td>\n",
       "    </tr>\n",
       "    <tr>\n",
       "      <th>26</th>\n",
       "      <td>27</td>\n",
       "      <td>19.931034</td>\n",
       "      <td>168.965517</td>\n",
       "      <td>90.814035</td>\n",
       "    </tr>\n",
       "    <tr>\n",
       "      <th>27</th>\n",
       "      <td>28</td>\n",
       "      <td>11.655172</td>\n",
       "      <td>57.241379</td>\n",
       "      <td>22.636163</td>\n",
       "    </tr>\n",
       "  </tbody>\n",
       "</table>\n",
       "</div>"
      ],
      "text/plain": [
       "    Unnamed: 0  Education   Seniority     Income\n",
       "23          24  10.413793   32.413793  18.570665\n",
       "24          25  21.586207   20.000000  78.805784\n",
       "25          26  11.241379   44.827586  21.388561\n",
       "26          27  19.931034  168.965517  90.814035\n",
       "27          28  11.655172   57.241379  22.636163"
      ]
     },
     "execution_count": 14,
     "metadata": {},
     "output_type": "execute_result"
    }
   ],
   "source": [
    "train = pd.read_csv('Income2.csv')[:23]\n",
    "test = pd.read_csv('Income2.csv')[23:]\n",
    "\n",
    "test.head()"
   ]
  },
  {
   "cell_type": "code",
   "execution_count": 15,
   "metadata": {},
   "outputs": [],
   "source": [
    "x_train_seniority = train['Seniority']\n",
    "y_train_income = train['Income']\n",
    "x_test_seniority = test['Seniority']\n",
    "y_test_income = test['Income']\n",
    "\n",
    "train_seniority_np = np.array(x_train_seniority)\n",
    "train_income_np = np.array(y_train_income)\n",
    "test_seniority_np = np.array(x_test_seniority)\n",
    "test_income_np = np.array(y_test_income)"
   ]
  },
  {
   "cell_type": "code",
   "execution_count": 16,
   "metadata": {},
   "outputs": [
    {
     "data": {
      "text/html": [
       "\n",
       "<div class=\"bk-root\">\n",
       "    <div class=\"bk-plotdiv\" id=\"af241950-97b6-4eed-9ed9-0667be548d1a\"></div>\n",
       "</div>"
      ]
     },
     "metadata": {},
     "output_type": "display_data"
    },
    {
     "data": {
      "application/javascript": [
       "(function(root) {\n",
       "  function embed_document(root) {\n",
       "    var docs_json = {\"aabf8f5f-3527-4661-b4d6-5c87104607ef\":{\"roots\":{\"references\":[{\"attributes\":{\"fill_color\":{\"value\":\"#1f77b4\"},\"line_color\":{\"value\":\"#1f77b4\"},\"size\":{\"units\":\"screen\",\"value\":5},\"x\":{\"field\":\"x\"},\"y\":{\"field\":\"y\"}},\"id\":\"da57b809-7018-4b64-96a4-b5fd1f4cf707\",\"type\":\"Circle\"},{\"attributes\":{\"below\":[{\"id\":\"0253de19-42ec-4881-ba41-0363bb8b9211\",\"type\":\"LinearAxis\"}],\"left\":[{\"id\":\"346a29cf-759d-49de-9d6d-f179ff281ad6\",\"type\":\"LinearAxis\"}],\"plot_height\":300,\"plot_width\":300,\"renderers\":[{\"id\":\"0253de19-42ec-4881-ba41-0363bb8b9211\",\"type\":\"LinearAxis\"},{\"id\":\"ee921f41-2ae2-42f5-bf9c-116617dc0e7d\",\"type\":\"Grid\"},{\"id\":\"346a29cf-759d-49de-9d6d-f179ff281ad6\",\"type\":\"LinearAxis\"},{\"id\":\"466cc84f-33ad-4175-ac0f-7028aa1cda8f\",\"type\":\"Grid\"},{\"id\":\"ed7d6dbc-28b4-4a82-ac66-4876c62113aa\",\"type\":\"BoxAnnotation\"},{\"id\":\"c750b278-08be-4700-93cd-2d072de0b2df\",\"type\":\"GlyphRenderer\"}],\"title\":{\"id\":\"44fb1b6f-b29e-4efd-94c7-9d19000105ba\",\"type\":\"Title\"},\"toolbar\":{\"id\":\"ebece6e3-c3e0-4b9b-b725-4ace7363ff6d\",\"type\":\"Toolbar\"},\"x_range\":{\"id\":\"ba45063c-1e11-4369-a7cf-29ae649b8ce8\",\"type\":\"DataRange1d\"},\"x_scale\":{\"id\":\"d345819c-73f2-4826-8447-8d36781e28cb\",\"type\":\"LinearScale\"},\"y_range\":{\"id\":\"a75e6ffc-3c98-4a8e-8403-bbecbd04a17e\",\"type\":\"DataRange1d\"},\"y_scale\":{\"id\":\"827b9aff-cb08-49fb-b92f-98ce1d749e67\",\"type\":\"LinearScale\"}},\"id\":\"63e5fe23-a44e-4199-9489-9fc4b1598830\",\"subtype\":\"Figure\",\"type\":\"Plot\"},{\"attributes\":{\"active_drag\":\"auto\",\"active_inspect\":\"auto\",\"active_scroll\":\"auto\",\"active_tap\":\"auto\",\"tools\":[{\"id\":\"aed6be11-597a-4125-8bcd-2633ad86e7b2\",\"type\":\"PanTool\"},{\"id\":\"73bb9745-10a2-4ad9-bda7-af4e85c43976\",\"type\":\"WheelZoomTool\"},{\"id\":\"529377ad-a28b-4a49-8607-04d9d53342d7\",\"type\":\"BoxZoomTool\"},{\"id\":\"5c1ee49b-d9d6-47de-9d5a-973725523b9e\",\"type\":\"SaveTool\"},{\"id\":\"bd4b1deb-a0bc-4d12-acb1-18015eab16bb\",\"type\":\"ResetTool\"},{\"id\":\"25193394-5e42-4c58-9b90-c6600a444fc8\",\"type\":\"HelpTool\"}]},\"id\":\"ebece6e3-c3e0-4b9b-b725-4ace7363ff6d\",\"type\":\"Toolbar\"},{\"attributes\":{\"axis_label\":\"Seniority\",\"formatter\":{\"id\":\"ab920497-f3b9-4c96-83f9-4d835f8064b9\",\"type\":\"BasicTickFormatter\"},\"plot\":{\"id\":\"63e5fe23-a44e-4199-9489-9fc4b1598830\",\"subtype\":\"Figure\",\"type\":\"Plot\"},\"ticker\":{\"id\":\"603ebf43-0023-4bce-9a19-d577bd2980df\",\"type\":\"BasicTicker\"}},\"id\":\"0253de19-42ec-4881-ba41-0363bb8b9211\",\"type\":\"LinearAxis\"},{\"attributes\":{\"overlay\":{\"id\":\"ed7d6dbc-28b4-4a82-ac66-4876c62113aa\",\"type\":\"BoxAnnotation\"}},\"id\":\"529377ad-a28b-4a49-8607-04d9d53342d7\",\"type\":\"BoxZoomTool\"},{\"attributes\":{\"fill_alpha\":{\"value\":0.1},\"fill_color\":{\"value\":\"#1f77b4\"},\"line_alpha\":{\"value\":0.1},\"line_color\":{\"value\":\"#1f77b4\"},\"size\":{\"units\":\"screen\",\"value\":5},\"x\":{\"field\":\"x\"},\"y\":{\"field\":\"y\"}},\"id\":\"d1810b74-debb-4962-bcbd-c07c989d788f\",\"type\":\"Circle\"},{\"attributes\":{\"callback\":null},\"id\":\"a75e6ffc-3c98-4a8e-8403-bbecbd04a17e\",\"type\":\"DataRange1d\"},{\"attributes\":{\"callback\":null},\"id\":\"ba45063c-1e11-4369-a7cf-29ae649b8ce8\",\"type\":\"DataRange1d\"},{\"attributes\":{\"data_source\":{\"id\":\"b7162e7a-1881-43dc-a9ed-82069034297d\",\"type\":\"ColumnDataSource\"},\"glyph\":{\"id\":\"da57b809-7018-4b64-96a4-b5fd1f4cf707\",\"type\":\"Circle\"},\"hover_glyph\":null,\"muted_glyph\":null,\"nonselection_glyph\":{\"id\":\"d1810b74-debb-4962-bcbd-c07c989d788f\",\"type\":\"Circle\"},\"selection_glyph\":null,\"view\":{\"id\":\"19a369ad-9acb-48aa-b301-e7e86b5e0682\",\"type\":\"CDSView\"}},\"id\":\"c750b278-08be-4700-93cd-2d072de0b2df\",\"type\":\"GlyphRenderer\"},{\"attributes\":{\"plot\":{\"id\":\"63e5fe23-a44e-4199-9489-9fc4b1598830\",\"subtype\":\"Figure\",\"type\":\"Plot\"},\"ticker\":{\"id\":\"603ebf43-0023-4bce-9a19-d577bd2980df\",\"type\":\"BasicTicker\"}},\"id\":\"ee921f41-2ae2-42f5-bf9c-116617dc0e7d\",\"type\":\"Grid\"},{\"attributes\":{\"callback\":null,\"column_names\":[\"x\",\"y\"],\"data\":{\"x\":{\"__ndarray__\":\"6mmE5Z5GXEC9PY2w3NNdQEPCck8jLFlALSz3NMJyZ0AAAAAAAAA0QGhPIyz3NDpAkbDc0wjLYkCgRljuaYRUQHoaYbmnEVZA6mmE5Z5GXECgRljuaYRJQKdGWO5pBGJAAAAAAAAANEBb7mmE5Z5XQC0s9zTCcmdAW+5phOWeV0AAAAAAAAA0QOyeRljuaUZANljuaYTlZUAtLPc0wnJnQEPCck8jLFlAvtzTCMs9YUBb7mmE5Z5XQA==\",\"dtype\":\"float64\",\"shape\":[23]},\"y\":{\"__ndarray__\":\"eLrA9LL6WEAhHqSLECVXQLGPBIjgVkFAkBUBx/qsU0Bvg2eOogBRQNKjDX1J4FFAoSyYIRz+VUCuVqzp5/NTQHob0alngFZALXcBZOjTRkDjyyRR7+k/QHmsnp4cElhAM+vtcIX7O0Cif1XEg6ZQQJkg31MYxERA1JxuewtAVkBUoSgW+dA8QP+d5sFB10xAk0/A5LmGUUC1APRxYLVYQOXlqcoZrVJAUcqHCRzESkA9ktgVDQVSQA==\",\"dtype\":\"float64\",\"shape\":[23]}}},\"id\":\"b7162e7a-1881-43dc-a9ed-82069034297d\",\"type\":\"ColumnDataSource\"},{\"attributes\":{},\"id\":\"381ca8fb-7f82-47f6-be99-ceb8bc8cfa1a\",\"type\":\"BasicTickFormatter\"},{\"attributes\":{\"plot\":null,\"text\":\"\"},\"id\":\"44fb1b6f-b29e-4efd-94c7-9d19000105ba\",\"type\":\"Title\"},{\"attributes\":{},\"id\":\"25193394-5e42-4c58-9b90-c6600a444fc8\",\"type\":\"HelpTool\"},{\"attributes\":{\"source\":{\"id\":\"b7162e7a-1881-43dc-a9ed-82069034297d\",\"type\":\"ColumnDataSource\"}},\"id\":\"19a369ad-9acb-48aa-b301-e7e86b5e0682\",\"type\":\"CDSView\"},{\"attributes\":{\"axis_label\":\"Income\",\"formatter\":{\"id\":\"381ca8fb-7f82-47f6-be99-ceb8bc8cfa1a\",\"type\":\"BasicTickFormatter\"},\"plot\":{\"id\":\"63e5fe23-a44e-4199-9489-9fc4b1598830\",\"subtype\":\"Figure\",\"type\":\"Plot\"},\"ticker\":{\"id\":\"6da0c329-4b8b-4b3c-9ff8-be817ccd39ef\",\"type\":\"BasicTicker\"}},\"id\":\"346a29cf-759d-49de-9d6d-f179ff281ad6\",\"type\":\"LinearAxis\"},{\"attributes\":{},\"id\":\"bd4b1deb-a0bc-4d12-acb1-18015eab16bb\",\"type\":\"ResetTool\"},{\"attributes\":{},\"id\":\"603ebf43-0023-4bce-9a19-d577bd2980df\",\"type\":\"BasicTicker\"},{\"attributes\":{},\"id\":\"6da0c329-4b8b-4b3c-9ff8-be817ccd39ef\",\"type\":\"BasicTicker\"},{\"attributes\":{},\"id\":\"5c1ee49b-d9d6-47de-9d5a-973725523b9e\",\"type\":\"SaveTool\"},{\"attributes\":{\"bottom_units\":\"screen\",\"fill_alpha\":{\"value\":0.5},\"fill_color\":{\"value\":\"lightgrey\"},\"left_units\":\"screen\",\"level\":\"overlay\",\"line_alpha\":{\"value\":1.0},\"line_color\":{\"value\":\"black\"},\"line_dash\":[4,4],\"line_width\":{\"value\":2},\"plot\":null,\"render_mode\":\"css\",\"right_units\":\"screen\",\"top_units\":\"screen\"},\"id\":\"ed7d6dbc-28b4-4a82-ac66-4876c62113aa\",\"type\":\"BoxAnnotation\"},{\"attributes\":{},\"id\":\"73bb9745-10a2-4ad9-bda7-af4e85c43976\",\"type\":\"WheelZoomTool\"},{\"attributes\":{\"dimension\":1,\"plot\":{\"id\":\"63e5fe23-a44e-4199-9489-9fc4b1598830\",\"subtype\":\"Figure\",\"type\":\"Plot\"},\"ticker\":{\"id\":\"6da0c329-4b8b-4b3c-9ff8-be817ccd39ef\",\"type\":\"BasicTicker\"}},\"id\":\"466cc84f-33ad-4175-ac0f-7028aa1cda8f\",\"type\":\"Grid\"},{\"attributes\":{},\"id\":\"d345819c-73f2-4826-8447-8d36781e28cb\",\"type\":\"LinearScale\"},{\"attributes\":{},\"id\":\"ab920497-f3b9-4c96-83f9-4d835f8064b9\",\"type\":\"BasicTickFormatter\"},{\"attributes\":{},\"id\":\"aed6be11-597a-4125-8bcd-2633ad86e7b2\",\"type\":\"PanTool\"},{\"attributes\":{},\"id\":\"827b9aff-cb08-49fb-b92f-98ce1d749e67\",\"type\":\"LinearScale\"}],\"root_ids\":[\"63e5fe23-a44e-4199-9489-9fc4b1598830\"]},\"title\":\"Bokeh Application\",\"version\":\"0.12.10\"}};\n",
       "    var render_items = [{\"docid\":\"aabf8f5f-3527-4661-b4d6-5c87104607ef\",\"elementid\":\"af241950-97b6-4eed-9ed9-0667be548d1a\",\"modelid\":\"63e5fe23-a44e-4199-9489-9fc4b1598830\"}];\n",
       "\n",
       "    root.Bokeh.embed.embed_items(docs_json, render_items);\n",
       "  }\n",
       "\n",
       "  if (root.Bokeh !== undefined) {\n",
       "    embed_document(root);\n",
       "  } else {\n",
       "    var attempts = 0;\n",
       "    var timer = setInterval(function(root) {\n",
       "      if (root.Bokeh !== undefined) {\n",
       "        embed_document(root);\n",
       "        clearInterval(timer);\n",
       "      }\n",
       "      attempts++;\n",
       "      if (attempts > 100) {\n",
       "        console.log(\"Bokeh: ERROR: Unable to embed document because BokehJS library is missing\")\n",
       "        clearInterval(timer);\n",
       "      }\n",
       "    }, 10, root)\n",
       "  }\n",
       "})(window);"
      ],
      "application/vnd.bokehjs_exec.v0+json": ""
     },
     "metadata": {
      "application/vnd.bokehjs_exec.v0+json": {
       "id": "63e5fe23-a44e-4199-9489-9fc4b1598830"
      }
     },
     "output_type": "display_data"
    }
   ],
   "source": [
    "plot = figure(plot_width=300, plot_height=300, x_axis_label='Seniority', y_axis_label='Income')\n",
    "plot.scatter(x=x_train_seniority, y=y_train_income, size=5)\n",
    "show(plot)"
   ]
  },
  {
   "cell_type": "code",
   "execution_count": 18,
   "metadata": {},
   "outputs": [],
   "source": [
    "w = np.array([0., 0.])\n",
    "\n",
    "def model(x, w):\n",
    "    return (w[1] * x) + w[0]\n",
    "\n",
    "def loss(w):\n",
    "    return np.sum(np.sqrt((model(train_seniority_np, w) - train_income_np)**2))\n",
    "\n",
    "model_grad = grad(loss)"
   ]
  },
  {
   "cell_type": "code",
   "execution_count": 19,
   "metadata": {},
   "outputs": [
    {
     "data": {
      "text/plain": [
       "array([ 0.,  0.,  0.,  0.,  0.,  0.,  0.,  0.,  0.,  0.,  0.,  0.,  0.,\n",
       "        0.,  0.,  0.,  0.,  0.,  0.,  0.,  0.,  0.,  0.])"
      ]
     },
     "execution_count": 19,
     "metadata": {},
     "output_type": "execute_result"
    }
   ],
   "source": [
    "model(train_seniority_np, w)"
   ]
  },
  {
   "cell_type": "code",
   "execution_count": 20,
   "metadata": {},
   "outputs": [
    {
     "data": {
      "text/plain": [
       "1557.9022277024469"
      ]
     },
     "execution_count": 20,
     "metadata": {},
     "output_type": "execute_result"
    }
   ],
   "source": [
    "loss(w)"
   ]
  },
  {
   "cell_type": "code",
   "execution_count": 21,
   "metadata": {},
   "outputs": [
    {
     "data": {
      "text/plain": [
       "array([  -23.        , -2353.10344828])"
      ]
     },
     "execution_count": 21,
     "metadata": {},
     "output_type": "execute_result"
    }
   ],
   "source": [
    "model_grad(w)"
   ]
  },
  {
   "cell_type": "code",
   "execution_count": 25,
   "metadata": {},
   "outputs": [
    {
     "data": {
      "text/html": [
       "\n",
       "<div class=\"bk-root\">\n",
       "    <div class=\"bk-plotdiv\" id=\"b12c31c8-7c20-426a-ab9c-48598b1b8506\"></div>\n",
       "</div>"
      ]
     },
     "metadata": {},
     "output_type": "display_data"
    },
    {
     "data": {
      "application/javascript": [
       "(function(root) {\n",
       "  function embed_document(root) {\n",
       "    var docs_json = {\"56586a07-4252-4498-ad06-29e704082064\":{\"roots\":{\"references\":[{\"attributes\":{\"bottom_units\":\"screen\",\"fill_alpha\":{\"value\":0.5},\"fill_color\":{\"value\":\"lightgrey\"},\"left_units\":\"screen\",\"level\":\"overlay\",\"line_alpha\":{\"value\":1.0},\"line_color\":{\"value\":\"black\"},\"line_dash\":[4,4],\"line_width\":{\"value\":2},\"plot\":null,\"render_mode\":\"css\",\"right_units\":\"screen\",\"top_units\":\"screen\"},\"id\":\"cb62fba7-f8ee-425e-aeda-3fb3eaecaac7\",\"type\":\"BoxAnnotation\"},{\"attributes\":{\"data_source\":{\"id\":\"a6bdbfa0-4d33-4031-b32c-bd7f1d551aba\",\"type\":\"ColumnDataSource\"},\"glyph\":{\"id\":\"6db957db-d63f-492d-94af-29d77d050a90\",\"type\":\"Circle\"},\"hover_glyph\":null,\"muted_glyph\":null,\"nonselection_glyph\":{\"id\":\"d94f71c6-9102-469f-ab84-8eeef57eb169\",\"type\":\"Circle\"},\"selection_glyph\":null,\"view\":{\"id\":\"ba941aca-5e22-4cfb-8373-1d794e85b6a9\",\"type\":\"CDSView\"}},\"id\":\"8b24386a-f6d8-4e86-a214-cd3fbac0b7fb\",\"type\":\"GlyphRenderer\"},{\"attributes\":{},\"id\":\"ed9fc693-cbad-45d2-9c33-8d3ec9e890b9\",\"type\":\"WheelZoomTool\"},{\"attributes\":{},\"id\":\"9b579694-9380-4881-9c8f-bafed4de93ea\",\"type\":\"BasicTicker\"},{\"attributes\":{\"overlay\":{\"id\":\"cb62fba7-f8ee-425e-aeda-3fb3eaecaac7\",\"type\":\"BoxAnnotation\"}},\"id\":\"28a66e43-ba99-440a-baa2-3bf39284dc6f\",\"type\":\"BoxZoomTool\"},{\"attributes\":{},\"id\":\"2d626b6c-0dcf-421c-80af-75af2de6c299\",\"type\":\"SaveTool\"},{\"attributes\":{},\"id\":\"68b51ba8-1c81-4efa-8a1b-664e1190e00f\",\"type\":\"ResetTool\"},{\"attributes\":{},\"id\":\"dc300a1f-6d44-4189-a861-56b19d1dceff\",\"type\":\"HelpTool\"},{\"attributes\":{},\"id\":\"30a03c7f-337d-4eac-9ac3-d9e2acdbdd85\",\"type\":\"BasicTickFormatter\"},{\"attributes\":{\"axis_label\":\"Seniority\",\"formatter\":{\"id\":\"30a03c7f-337d-4eac-9ac3-d9e2acdbdd85\",\"type\":\"BasicTickFormatter\"},\"plot\":{\"id\":\"59e27801-97c2-4714-aa25-572426528f3e\",\"subtype\":\"Figure\",\"type\":\"Plot\"},\"ticker\":{\"id\":\"8a199ee7-613c-4968-bd32-5fda35253fe8\",\"type\":\"BasicTicker\"}},\"id\":\"ebd7e717-ca51-4262-9004-a2571aad78e2\",\"type\":\"LinearAxis\"},{\"attributes\":{\"data_source\":{\"id\":\"d9905032-6737-48a6-b8fe-3b0fa1a81af1\",\"type\":\"ColumnDataSource\"},\"glyph\":{\"id\":\"ec4218b5-746e-44be-972f-bb2d133910fb\",\"type\":\"Line\"},\"hover_glyph\":null,\"muted_glyph\":null,\"nonselection_glyph\":{\"id\":\"0502d32c-142c-4592-bf7d-7dde06d8c455\",\"type\":\"Line\"},\"selection_glyph\":null,\"view\":{\"id\":\"4410834e-db52-4bcc-bf2c-78172a2d840b\",\"type\":\"CDSView\"}},\"id\":\"8aebb010-ecf4-40b0-b0aa-b083cfb72e1d\",\"type\":\"GlyphRenderer\"},{\"attributes\":{\"source\":{\"id\":\"d9905032-6737-48a6-b8fe-3b0fa1a81af1\",\"type\":\"ColumnDataSource\"}},\"id\":\"4410834e-db52-4bcc-bf2c-78172a2d840b\",\"type\":\"CDSView\"},{\"attributes\":{\"line_alpha\":{\"value\":0.5},\"line_color\":{\"value\":\"red\"},\"line_width\":{\"value\":4},\"x\":{\"field\":\"x\"},\"y\":{\"field\":\"y\"}},\"id\":\"ec4218b5-746e-44be-972f-bb2d133910fb\",\"type\":\"Line\"},{\"attributes\":{},\"id\":\"83940d90-0875-4575-a5e2-065cefd1bb25\",\"type\":\"PanTool\"},{\"attributes\":{},\"id\":\"cfe3337f-356e-4da6-9453-2fe52ff4abd9\",\"type\":\"BasicTickFormatter\"},{\"attributes\":{\"callback\":null,\"column_names\":[\"x\",\"y\"],\"data\":{\"x\":{\"__ndarray__\":\"AAAAAAAAAAB/pUCtXykAQH+lQK1fKRBAPvjggw8+GEB/pUCtXykgQN/OkJi3MyRAPvjggw8+KECeITFvZ0gsQH+lQK1fKTBAL7rooosuMkDfzpCYtzM0QI/jOI7jODZAPvjggw8+OEDuDIl5O0M6QJ4hMW9nSDxATjbZZJNNPkB/pUCtXylAQNevFKj1K0FAL7rooosuQkCHxLydITFDQN/OkJi3M0RAN9lkk002RUCP4ziO4zhGQOftDIl5O0dAPvjggw8+SECWArV+pUBJQO4MiXk7Q0pARhdddNFFS0CeITFvZ0hMQPYrBWr9Sk1ATjbZZJNNTkCmQK1fKVBPQH+lQK1fKVBAq6qqqqqqUEDXrxSo9StRQAO1fqVArVFAL7rooosuUkBbv1Kg1q9SQIfEvJ0hMVNAs8kmm2yyU0DfzpCYtzNUQAvU+pUCtVRAN9lkk002VUBj3s6QmLdVQI/jOI7jOFZAu+iiiy66VkDn7QyJeTtXQBPzdobEvFdAPvjggw8+WEBq/UqBWr9YQJYCtX6lQFlAwgcffPDBWUDuDIl5O0NaQBoS83aGxFpARhdddNFFW0ByHMdxHMdbQJ4hMW9nSFxAyiabbLLJXED2KwVq/UpdQCIxb2dIzF1ATjbZZJNNXkB6O0Ni3s5eQKZArV8pUF9A0kUXXXTRX0B/pUCtXylgQBWo9SsFamBAq6qqqqqqYEBBrV8pUOtgQNevFKj1K2FAbbLJJptsYUADtX6lQK1hQJm3MyTm7WFAL7rooosuYkDFvJ0hMW9iQFu/UqDWr2JA8cEHH3zwYkCHxLydITFjQB3HcRzHcWNAs8kmm2yyY0BJzNsZEvNjQN/OkJi3M2RAddFFF110ZEAL1PqVArVkQKHWrxSo9WRAN9lkk002ZUDN2xkS83ZlQGPezpCYt2VA+eCDDz74ZUCP4ziO4zhmQCXm7QyJeWZAu+iiiy66ZkBR61cK1PpmQOftDIl5O2dAffDBBx98Z0AT83aGxLxnQKn1KwVq/WdAPvjggw8+aEDU+pUCtX5oQGr9SoFav2hAAAAAAAAAaUA=\",\"dtype\":\"float64\",\"shape\":[100]},\"y\":{\"__ndarray__\":\"AAAAAAAAAAAAAAAAAAAAAAAAAAAAAAAAAAAAAAAAAAAAAAAAAAAAAAAAAAAAAAAAAAAAAAAAAAAAAAAAAAAAAAAAAAAAAAAAAAAAAAAAAAAAAAAAAAAAAAAAAAAAAAAAAAAAAAAAAAAAAAAAAAAAAAAAAAAAAAAAAAAAAAAAAAAAAAAAAAAAAAAAAAAAAAAAAAAAAAAAAAAAAAAAAAAAAAAAAAAAAAAAAAAAAAAAAAAAAAAAAAAAAAAAAAAAAAAAAAAAAAAAAAAAAAAAAAAAAAAAAAAAAAAAAAAAAAAAAAAAAAAAAAAAAAAAAAAAAAAAAAAAAAAAAAAAAAAAAAAAAAAAAAAAAAAAAAAAAAAAAAAAAAAAAAAAAAAAAAAAAAAAAAAAAAAAAAAAAAAAAAAAAAAAAAAAAAAAAAAAAAAAAAAAAAAAAAAAAAAAAAAAAAAAAAAAAAAAAAAAAAAAAAAAAAAAAAAAAAAAAAAAAAAAAAAAAAAAAAAAAAAAAAAAAAAAAAAAAAAAAAAAAAAAAAAAAAAAAAAAAAAAAAAAAAAAAAAAAAAAAAAAAAAAAAAAAAAAAAAAAAAAAAAAAAAAAAAAAAAAAAAAAAAAAAAAAAAAAAAAAAAAAAAAAAAAAAAAAAAAAAAAAAAAAAAAAAAAAAAAAAAAAAAAAAAAAAAAAAAAAAAAAAAAAAAAAAAAAAAAAAAAAAAAAAAAAAAAAAAAAAAAAAAAAAAAAAAAAAAAAAAAAAAAAAAAAAAAAAAAAAAAAAAAAAAAAAAAAAAAAAAAAAAAAAAAAAAAAAAAAAAAAAAAAAAAAAAAAAAAAAAAAAAAAAAAAAAAAAAAAAAAAAAAAAAAAAAAAAAAAAAAAAAAAAAAAAAAAAAAAAAAAAAAAAAAAAAAAAAAAAAAAAAAAAAAAAAAAAAAAAAAAAAAAAAAAAAAAAAAAAAAAAAAAAAAAAAAAAAAAAAAAAAAAAAAAAAAAAAAAAAAAAAAAAAAAAAAAAAAAAAAAAAAAAAAAAAAAAAAAAAAAAAAAAAAAAAAAAAAAAAAAAAAAAAAAAAAAAAAAAAAAAA=\",\"dtype\":\"float64\",\"shape\":[100]}}},\"id\":\"d9905032-6737-48a6-b8fe-3b0fa1a81af1\",\"type\":\"ColumnDataSource\"},{\"attributes\":{\"dimension\":1,\"plot\":{\"id\":\"59e27801-97c2-4714-aa25-572426528f3e\",\"subtype\":\"Figure\",\"type\":\"Plot\"},\"ticker\":{\"id\":\"9b579694-9380-4881-9c8f-bafed4de93ea\",\"type\":\"BasicTicker\"}},\"id\":\"53a9a033-1644-43f6-b70e-44f2ec652c2a\",\"type\":\"Grid\"},{\"attributes\":{\"line_alpha\":{\"value\":0.1},\"line_color\":{\"value\":\"#1f77b4\"},\"line_width\":{\"value\":4},\"x\":{\"field\":\"x\"},\"y\":{\"field\":\"y\"}},\"id\":\"0502d32c-142c-4592-bf7d-7dde06d8c455\",\"type\":\"Line\"},{\"attributes\":{\"plot\":null,\"text\":\"\"},\"id\":\"844ce6e0-592d-4717-aabe-5bbd2620886d\",\"type\":\"Title\"},{\"attributes\":{\"source\":{\"id\":\"a6bdbfa0-4d33-4031-b32c-bd7f1d551aba\",\"type\":\"ColumnDataSource\"}},\"id\":\"ba941aca-5e22-4cfb-8373-1d794e85b6a9\",\"type\":\"CDSView\"},{\"attributes\":{},\"id\":\"8a199ee7-613c-4968-bd32-5fda35253fe8\",\"type\":\"BasicTicker\"},{\"attributes\":{\"active_drag\":\"auto\",\"active_inspect\":\"auto\",\"active_scroll\":\"auto\",\"active_tap\":\"auto\",\"tools\":[{\"id\":\"83940d90-0875-4575-a5e2-065cefd1bb25\",\"type\":\"PanTool\"},{\"id\":\"ed9fc693-cbad-45d2-9c33-8d3ec9e890b9\",\"type\":\"WheelZoomTool\"},{\"id\":\"28a66e43-ba99-440a-baa2-3bf39284dc6f\",\"type\":\"BoxZoomTool\"},{\"id\":\"2d626b6c-0dcf-421c-80af-75af2de6c299\",\"type\":\"SaveTool\"},{\"id\":\"68b51ba8-1c81-4efa-8a1b-664e1190e00f\",\"type\":\"ResetTool\"},{\"id\":\"dc300a1f-6d44-4189-a861-56b19d1dceff\",\"type\":\"HelpTool\"}]},\"id\":\"c2c25c6d-d44e-48d0-934a-ee262eb53dcc\",\"type\":\"Toolbar\"},{\"attributes\":{\"callback\":null},\"id\":\"99e71bb0-e93a-474e-b340-2e3790a2ee65\",\"type\":\"DataRange1d\"},{\"attributes\":{\"fill_alpha\":{\"value\":0.1},\"fill_color\":{\"value\":\"#1f77b4\"},\"line_alpha\":{\"value\":0.1},\"line_color\":{\"value\":\"#1f77b4\"},\"size\":{\"units\":\"screen\",\"value\":5},\"x\":{\"field\":\"x\"},\"y\":{\"field\":\"y\"}},\"id\":\"d94f71c6-9102-469f-ab84-8eeef57eb169\",\"type\":\"Circle\"},{\"attributes\":{\"axis_label\":\"Income\",\"formatter\":{\"id\":\"cfe3337f-356e-4da6-9453-2fe52ff4abd9\",\"type\":\"BasicTickFormatter\"},\"plot\":{\"id\":\"59e27801-97c2-4714-aa25-572426528f3e\",\"subtype\":\"Figure\",\"type\":\"Plot\"},\"ticker\":{\"id\":\"9b579694-9380-4881-9c8f-bafed4de93ea\",\"type\":\"BasicTicker\"}},\"id\":\"81f2fefd-d222-43e5-af98-0452e5edc489\",\"type\":\"LinearAxis\"},{\"attributes\":{\"callback\":null},\"id\":\"d0183555-91c5-4da5-8cfc-617cd296cd03\",\"type\":\"DataRange1d\"},{\"attributes\":{},\"id\":\"61089007-168c-450c-8db8-890578c2e8a5\",\"type\":\"LinearScale\"},{\"attributes\":{\"callback\":null,\"column_names\":[\"x\",\"y\"],\"data\":{\"x\":{\"__ndarray__\":\"6mmE5Z5GXEC9PY2w3NNdQEPCck8jLFlALSz3NMJyZ0AAAAAAAAA0QGhPIyz3NDpAkbDc0wjLYkCgRljuaYRUQHoaYbmnEVZA6mmE5Z5GXECgRljuaYRJQKdGWO5pBGJAAAAAAAAANEBb7mmE5Z5XQC0s9zTCcmdAW+5phOWeV0AAAAAAAAA0QOyeRljuaUZANljuaYTlZUAtLPc0wnJnQEPCck8jLFlAvtzTCMs9YUBb7mmE5Z5XQA==\",\"dtype\":\"float64\",\"shape\":[23]},\"y\":{\"__ndarray__\":\"eLrA9LL6WEAhHqSLECVXQLGPBIjgVkFAkBUBx/qsU0Bvg2eOogBRQNKjDX1J4FFAoSyYIRz+VUCuVqzp5/NTQHob0alngFZALXcBZOjTRkDjyyRR7+k/QHmsnp4cElhAM+vtcIX7O0Cif1XEg6ZQQJkg31MYxERA1JxuewtAVkBUoSgW+dA8QP+d5sFB10xAk0/A5LmGUUC1APRxYLVYQOXlqcoZrVJAUcqHCRzESkA9ktgVDQVSQA==\",\"dtype\":\"float64\",\"shape\":[23]}}},\"id\":\"a6bdbfa0-4d33-4031-b32c-bd7f1d551aba\",\"type\":\"ColumnDataSource\"},{\"attributes\":{\"fill_color\":{\"value\":\"#1f77b4\"},\"line_color\":{\"value\":\"#1f77b4\"},\"size\":{\"units\":\"screen\",\"value\":5},\"x\":{\"field\":\"x\"},\"y\":{\"field\":\"y\"}},\"id\":\"6db957db-d63f-492d-94af-29d77d050a90\",\"type\":\"Circle\"},{\"attributes\":{},\"id\":\"6e3d044b-c0cf-43b9-aa9b-fe3bf6cfc6d4\",\"type\":\"LinearScale\"},{\"attributes\":{\"plot\":{\"id\":\"59e27801-97c2-4714-aa25-572426528f3e\",\"subtype\":\"Figure\",\"type\":\"Plot\"},\"ticker\":{\"id\":\"8a199ee7-613c-4968-bd32-5fda35253fe8\",\"type\":\"BasicTicker\"}},\"id\":\"2f611328-924a-4e83-807f-30c296878c46\",\"type\":\"Grid\"},{\"attributes\":{\"below\":[{\"id\":\"ebd7e717-ca51-4262-9004-a2571aad78e2\",\"type\":\"LinearAxis\"}],\"left\":[{\"id\":\"81f2fefd-d222-43e5-af98-0452e5edc489\",\"type\":\"LinearAxis\"}],\"plot_height\":300,\"plot_width\":300,\"renderers\":[{\"id\":\"ebd7e717-ca51-4262-9004-a2571aad78e2\",\"type\":\"LinearAxis\"},{\"id\":\"2f611328-924a-4e83-807f-30c296878c46\",\"type\":\"Grid\"},{\"id\":\"81f2fefd-d222-43e5-af98-0452e5edc489\",\"type\":\"LinearAxis\"},{\"id\":\"53a9a033-1644-43f6-b70e-44f2ec652c2a\",\"type\":\"Grid\"},{\"id\":\"cb62fba7-f8ee-425e-aeda-3fb3eaecaac7\",\"type\":\"BoxAnnotation\"},{\"id\":\"8b24386a-f6d8-4e86-a214-cd3fbac0b7fb\",\"type\":\"GlyphRenderer\"},{\"id\":\"8aebb010-ecf4-40b0-b0aa-b083cfb72e1d\",\"type\":\"GlyphRenderer\"}],\"title\":{\"id\":\"844ce6e0-592d-4717-aabe-5bbd2620886d\",\"type\":\"Title\"},\"toolbar\":{\"id\":\"c2c25c6d-d44e-48d0-934a-ee262eb53dcc\",\"type\":\"Toolbar\"},\"x_range\":{\"id\":\"d0183555-91c5-4da5-8cfc-617cd296cd03\",\"type\":\"DataRange1d\"},\"x_scale\":{\"id\":\"6e3d044b-c0cf-43b9-aa9b-fe3bf6cfc6d4\",\"type\":\"LinearScale\"},\"y_range\":{\"id\":\"99e71bb0-e93a-474e-b340-2e3790a2ee65\",\"type\":\"DataRange1d\"},\"y_scale\":{\"id\":\"61089007-168c-450c-8db8-890578c2e8a5\",\"type\":\"LinearScale\"}},\"id\":\"59e27801-97c2-4714-aa25-572426528f3e\",\"subtype\":\"Figure\",\"type\":\"Plot\"}],\"root_ids\":[\"59e27801-97c2-4714-aa25-572426528f3e\"]},\"title\":\"Bokeh Application\",\"version\":\"0.12.10\"}};\n",
       "    var render_items = [{\"docid\":\"56586a07-4252-4498-ad06-29e704082064\",\"elementid\":\"b12c31c8-7c20-426a-ab9c-48598b1b8506\",\"modelid\":\"59e27801-97c2-4714-aa25-572426528f3e\"}];\n",
       "\n",
       "    root.Bokeh.embed.embed_items(docs_json, render_items);\n",
       "  }\n",
       "\n",
       "  if (root.Bokeh !== undefined) {\n",
       "    embed_document(root);\n",
       "  } else {\n",
       "    var attempts = 0;\n",
       "    var timer = setInterval(function(root) {\n",
       "      if (root.Bokeh !== undefined) {\n",
       "        embed_document(root);\n",
       "        clearInterval(timer);\n",
       "      }\n",
       "      attempts++;\n",
       "      if (attempts > 100) {\n",
       "        console.log(\"Bokeh: ERROR: Unable to embed document because BokehJS library is missing\")\n",
       "        clearInterval(timer);\n",
       "      }\n",
       "    }, 10, root)\n",
       "  }\n",
       "})(window);"
      ],
      "application/vnd.bokehjs_exec.v0+json": ""
     },
     "metadata": {
      "application/vnd.bokehjs_exec.v0+json": {
       "id": "59e27801-97c2-4714-aa25-572426528f3e"
      }
     },
     "output_type": "display_data"
    }
   ],
   "source": [
    "plot = figure(plot_width=300, plot_height=300, x_axis_label='Seniority', y_axis_label='Income')\n",
    "plot.scatter(x=x_train_seniority, y=y_train_income, size=5)\n",
    "plot.line(x=np.linspace(0,200,100), y=model(np.linspace(0,25,100), w), line_width=4, color='red', alpha=0.5)\n",
    "show(plot)"
   ]
  },
  {
   "cell_type": "code",
   "execution_count": 49,
   "metadata": {
    "collapsed": true
   },
   "outputs": [],
   "source": [
    "for i in range(20000):\n",
    "    w = w - (0.001 * model_grad(w))"
   ]
  },
  {
   "cell_type": "code",
   "execution_count": 50,
   "metadata": {},
   "outputs": [
    {
     "data": {
      "text/html": [
       "\n",
       "<div class=\"bk-root\">\n",
       "    <div class=\"bk-plotdiv\" id=\"d2abe475-fb33-4643-b7e4-1bb6f4911bf8\"></div>\n",
       "</div>"
      ]
     },
     "metadata": {},
     "output_type": "display_data"
    },
    {
     "data": {
      "application/javascript": [
       "(function(root) {\n",
       "  function embed_document(root) {\n",
       "    var docs_json = {\"e9b3b0dd-a848-476c-ac00-5ca43ae08f2d\":{\"roots\":{\"references\":[{\"attributes\":{},\"id\":\"54df5c93-1168-4915-a913-eaad791f9deb\",\"type\":\"LinearScale\"},{\"attributes\":{},\"id\":\"6221d85f-b673-4fa5-acce-7e611a075b76\",\"type\":\"LinearScale\"},{\"attributes\":{\"callback\":null},\"id\":\"b881de02-16ac-44a5-bead-3a84a9bd02b5\",\"type\":\"DataRange1d\"},{\"attributes\":{\"fill_alpha\":{\"value\":0.1},\"fill_color\":{\"value\":\"#1f77b4\"},\"line_alpha\":{\"value\":0.1},\"line_color\":{\"value\":\"#1f77b4\"},\"size\":{\"units\":\"screen\",\"value\":5},\"x\":{\"field\":\"x\"},\"y\":{\"field\":\"y\"}},\"id\":\"92a56a3d-354d-4282-9840-43a3d8aef55c\",\"type\":\"Circle\"},{\"attributes\":{},\"id\":\"147cdacf-6f3d-4055-b9c7-9277bf1fd0bf\",\"type\":\"PanTool\"},{\"attributes\":{\"dimension\":1,\"plot\":{\"id\":\"18803228-4d8c-44df-8e25-3e6e2018d6d9\",\"subtype\":\"Figure\",\"type\":\"Plot\"},\"ticker\":{\"id\":\"5190762d-b166-4edb-8c10-d3fb715dba7b\",\"type\":\"BasicTicker\"}},\"id\":\"50bc5e2b-5041-41df-84c2-18551cc17c96\",\"type\":\"Grid\"},{\"attributes\":{\"bottom_units\":\"screen\",\"fill_alpha\":{\"value\":0.5},\"fill_color\":{\"value\":\"lightgrey\"},\"left_units\":\"screen\",\"level\":\"overlay\",\"line_alpha\":{\"value\":1.0},\"line_color\":{\"value\":\"black\"},\"line_dash\":[4,4],\"line_width\":{\"value\":2},\"plot\":null,\"render_mode\":\"css\",\"right_units\":\"screen\",\"top_units\":\"screen\"},\"id\":\"826ca7e9-1bc8-445a-a0c9-2a9b5207ab95\",\"type\":\"BoxAnnotation\"},{\"attributes\":{\"source\":{\"id\":\"b1e0c574-a53c-41c6-8d6a-ce698dd77d8d\",\"type\":\"ColumnDataSource\"}},\"id\":\"9cff1c44-a9d7-4110-b0af-611c1f491877\",\"type\":\"CDSView\"},{\"attributes\":{},\"id\":\"a2624f55-49a5-40d9-a39a-2458abeeda9c\",\"type\":\"ResetTool\"},{\"attributes\":{},\"id\":\"bda0d1e4-3922-4b69-83c8-fb0cc50698a5\",\"type\":\"SaveTool\"},{\"attributes\":{\"data_source\":{\"id\":\"c7a20810-e1f4-47d1-ac32-ccf94c071e67\",\"type\":\"ColumnDataSource\"},\"glyph\":{\"id\":\"a0945708-d195-422a-bc06-76bc02b6c316\",\"type\":\"Line\"},\"hover_glyph\":null,\"muted_glyph\":null,\"nonselection_glyph\":{\"id\":\"c43094ea-15a4-4aaf-8daa-b650f4b00c54\",\"type\":\"Line\"},\"selection_glyph\":null,\"view\":{\"id\":\"69e985b3-45f0-4ab0-9d69-871de2b0893a\",\"type\":\"CDSView\"}},\"id\":\"d27251fe-3c3b-4b92-8c63-693c74bce454\",\"type\":\"GlyphRenderer\"},{\"attributes\":{\"overlay\":{\"id\":\"826ca7e9-1bc8-445a-a0c9-2a9b5207ab95\",\"type\":\"BoxAnnotation\"}},\"id\":\"47b5a4de-28c8-487c-b426-e83bae011a6e\",\"type\":\"BoxZoomTool\"},{\"attributes\":{\"plot\":null,\"text\":\"\"},\"id\":\"d8476763-d454-4890-9825-50d51efff5d4\",\"type\":\"Title\"},{\"attributes\":{},\"id\":\"c7ad93a4-16df-4de1-8869-607b7161b40c\",\"type\":\"BasicTickFormatter\"},{\"attributes\":{},\"id\":\"85df376b-69e6-471b-a454-2d5d7e97ebe2\",\"type\":\"HelpTool\"},{\"attributes\":{\"line_alpha\":{\"value\":0.5},\"line_color\":{\"value\":\"red\"},\"line_width\":{\"value\":5},\"x\":{\"field\":\"x\"},\"y\":{\"field\":\"y\"}},\"id\":\"a0945708-d195-422a-bc06-76bc02b6c316\",\"type\":\"Line\"},{\"attributes\":{\"line_alpha\":{\"value\":0.1},\"line_color\":{\"value\":\"#1f77b4\"},\"line_width\":{\"value\":5},\"x\":{\"field\":\"x\"},\"y\":{\"field\":\"y\"}},\"id\":\"c43094ea-15a4-4aaf-8daa-b650f4b00c54\",\"type\":\"Line\"},{\"attributes\":{},\"id\":\"1d581f57-05d4-4639-a3f6-9bfe45dd6e8f\",\"type\":\"BasicTickFormatter\"},{\"attributes\":{\"below\":[{\"id\":\"9ba05b6f-e3ae-4db2-837e-bf9cb619ee48\",\"type\":\"LinearAxis\"}],\"left\":[{\"id\":\"9a56d0b3-c24d-4e8d-9433-9aff20271244\",\"type\":\"LinearAxis\"}],\"plot_height\":300,\"plot_width\":300,\"renderers\":[{\"id\":\"9ba05b6f-e3ae-4db2-837e-bf9cb619ee48\",\"type\":\"LinearAxis\"},{\"id\":\"efe38c4e-1308-4dd9-b6c0-3aa0718a2662\",\"type\":\"Grid\"},{\"id\":\"9a56d0b3-c24d-4e8d-9433-9aff20271244\",\"type\":\"LinearAxis\"},{\"id\":\"50bc5e2b-5041-41df-84c2-18551cc17c96\",\"type\":\"Grid\"},{\"id\":\"826ca7e9-1bc8-445a-a0c9-2a9b5207ab95\",\"type\":\"BoxAnnotation\"},{\"id\":\"b943c60e-798b-4b3e-8833-b75e89f64579\",\"type\":\"GlyphRenderer\"},{\"id\":\"d27251fe-3c3b-4b92-8c63-693c74bce454\",\"type\":\"GlyphRenderer\"}],\"title\":{\"id\":\"d8476763-d454-4890-9825-50d51efff5d4\",\"type\":\"Title\"},\"toolbar\":{\"id\":\"0bc61013-09c2-422b-84cc-1c756ba4398b\",\"type\":\"Toolbar\"},\"x_range\":{\"id\":\"30a4f472-ba04-401e-af11-667d4126f483\",\"type\":\"DataRange1d\"},\"x_scale\":{\"id\":\"6221d85f-b673-4fa5-acce-7e611a075b76\",\"type\":\"LinearScale\"},\"y_range\":{\"id\":\"b881de02-16ac-44a5-bead-3a84a9bd02b5\",\"type\":\"DataRange1d\"},\"y_scale\":{\"id\":\"54df5c93-1168-4915-a913-eaad791f9deb\",\"type\":\"LinearScale\"}},\"id\":\"18803228-4d8c-44df-8e25-3e6e2018d6d9\",\"subtype\":\"Figure\",\"type\":\"Plot\"},{\"attributes\":{\"source\":{\"id\":\"c7a20810-e1f4-47d1-ac32-ccf94c071e67\",\"type\":\"ColumnDataSource\"}},\"id\":\"69e985b3-45f0-4ab0-9d69-871de2b0893a\",\"type\":\"CDSView\"},{\"attributes\":{\"active_drag\":\"auto\",\"active_inspect\":\"auto\",\"active_scroll\":\"auto\",\"active_tap\":\"auto\",\"tools\":[{\"id\":\"147cdacf-6f3d-4055-b9c7-9277bf1fd0bf\",\"type\":\"PanTool\"},{\"id\":\"a03c3bb8-baa1-4157-b3e0-f9c5fbd36a58\",\"type\":\"WheelZoomTool\"},{\"id\":\"47b5a4de-28c8-487c-b426-e83bae011a6e\",\"type\":\"BoxZoomTool\"},{\"id\":\"bda0d1e4-3922-4b69-83c8-fb0cc50698a5\",\"type\":\"SaveTool\"},{\"id\":\"a2624f55-49a5-40d9-a39a-2458abeeda9c\",\"type\":\"ResetTool\"},{\"id\":\"85df376b-69e6-471b-a454-2d5d7e97ebe2\",\"type\":\"HelpTool\"}]},\"id\":\"0bc61013-09c2-422b-84cc-1c756ba4398b\",\"type\":\"Toolbar\"},{\"attributes\":{\"fill_color\":{\"value\":\"#1f77b4\"},\"line_color\":{\"value\":\"#1f77b4\"},\"size\":{\"units\":\"screen\",\"value\":5},\"x\":{\"field\":\"x\"},\"y\":{\"field\":\"y\"}},\"id\":\"aef03a18-b50d-4f94-b865-9c255893fd8c\",\"type\":\"Circle\"},{\"attributes\":{\"callback\":null},\"id\":\"30a4f472-ba04-401e-af11-667d4126f483\",\"type\":\"DataRange1d\"},{\"attributes\":{\"data_source\":{\"id\":\"b1e0c574-a53c-41c6-8d6a-ce698dd77d8d\",\"type\":\"ColumnDataSource\"},\"glyph\":{\"id\":\"aef03a18-b50d-4f94-b865-9c255893fd8c\",\"type\":\"Circle\"},\"hover_glyph\":null,\"muted_glyph\":null,\"nonselection_glyph\":{\"id\":\"92a56a3d-354d-4282-9840-43a3d8aef55c\",\"type\":\"Circle\"},\"selection_glyph\":null,\"view\":{\"id\":\"9cff1c44-a9d7-4110-b0af-611c1f491877\",\"type\":\"CDSView\"}},\"id\":\"b943c60e-798b-4b3e-8833-b75e89f64579\",\"type\":\"GlyphRenderer\"},{\"attributes\":{\"callback\":null,\"column_names\":[\"x\",\"y\"],\"data\":{\"x\":{\"__ndarray__\":\"6mmE5Z5GXEC9PY2w3NNdQEPCck8jLFlALSz3NMJyZ0AAAAAAAAA0QGhPIyz3NDpAkbDc0wjLYkCgRljuaYRUQHoaYbmnEVZA6mmE5Z5GXECgRljuaYRJQKdGWO5pBGJAAAAAAAAANEBb7mmE5Z5XQC0s9zTCcmdAW+5phOWeV0AAAAAAAAA0QOyeRljuaUZANljuaYTlZUAtLPc0wnJnQEPCck8jLFlAvtzTCMs9YUBb7mmE5Z5XQA==\",\"dtype\":\"float64\",\"shape\":[23]},\"y\":{\"__ndarray__\":\"eLrA9LL6WEAhHqSLECVXQLGPBIjgVkFAkBUBx/qsU0Bvg2eOogBRQNKjDX1J4FFAoSyYIRz+VUCuVqzp5/NTQHob0alngFZALXcBZOjTRkDjyyRR7+k/QHmsnp4cElhAM+vtcIX7O0Cif1XEg6ZQQJkg31MYxERA1JxuewtAVkBUoSgW+dA8QP+d5sFB10xAk0/A5LmGUUC1APRxYLVYQOXlqcoZrVJAUcqHCRzESkA9ktgVDQVSQA==\",\"dtype\":\"float64\",\"shape\":[23]}}},\"id\":\"b1e0c574-a53c-41c6-8d6a-ce698dd77d8d\",\"type\":\"ColumnDataSource\"},{\"attributes\":{},\"id\":\"a03c3bb8-baa1-4157-b3e0-f9c5fbd36a58\",\"type\":\"WheelZoomTool\"},{\"attributes\":{\"axis_label\":\"Seniority\",\"formatter\":{\"id\":\"c7ad93a4-16df-4de1-8869-607b7161b40c\",\"type\":\"BasicTickFormatter\"},\"plot\":{\"id\":\"18803228-4d8c-44df-8e25-3e6e2018d6d9\",\"subtype\":\"Figure\",\"type\":\"Plot\"},\"ticker\":{\"id\":\"77c3dad9-e511-467a-9399-d66c9162afd2\",\"type\":\"BasicTicker\"}},\"id\":\"9ba05b6f-e3ae-4db2-837e-bf9cb619ee48\",\"type\":\"LinearAxis\"},{\"attributes\":{},\"id\":\"5190762d-b166-4edb-8c10-d3fb715dba7b\",\"type\":\"BasicTicker\"},{\"attributes\":{\"axis_label\":\"Income\",\"formatter\":{\"id\":\"1d581f57-05d4-4639-a3f6-9bfe45dd6e8f\",\"type\":\"BasicTickFormatter\"},\"plot\":{\"id\":\"18803228-4d8c-44df-8e25-3e6e2018d6d9\",\"subtype\":\"Figure\",\"type\":\"Plot\"},\"ticker\":{\"id\":\"5190762d-b166-4edb-8c10-d3fb715dba7b\",\"type\":\"BasicTicker\"}},\"id\":\"9a56d0b3-c24d-4e8d-9433-9aff20271244\",\"type\":\"LinearAxis\"},{\"attributes\":{},\"id\":\"77c3dad9-e511-467a-9399-d66c9162afd2\",\"type\":\"BasicTicker\"},{\"attributes\":{\"callback\":null,\"column_names\":[\"x\",\"y\"],\"data\":{\"x\":{\"__ndarray__\":\"AAAAAAAAAAB/pUCtXykAQH+lQK1fKRBAPvjggw8+GEB/pUCtXykgQN/OkJi3MyRAPvjggw8+KECeITFvZ0gsQH+lQK1fKTBAL7rooosuMkDfzpCYtzM0QI/jOI7jODZAPvjggw8+OEDuDIl5O0M6QJ4hMW9nSDxATjbZZJNNPkB/pUCtXylAQNevFKj1K0FAL7rooosuQkCHxLydITFDQN/OkJi3M0RAN9lkk002RUCP4ziO4zhGQOftDIl5O0dAPvjggw8+SECWArV+pUBJQO4MiXk7Q0pARhdddNFFS0CeITFvZ0hMQPYrBWr9Sk1ATjbZZJNNTkCmQK1fKVBPQH+lQK1fKVBAq6qqqqqqUEDXrxSo9StRQAO1fqVArVFAL7rooosuUkBbv1Kg1q9SQIfEvJ0hMVNAs8kmm2yyU0DfzpCYtzNUQAvU+pUCtVRAN9lkk002VUBj3s6QmLdVQI/jOI7jOFZAu+iiiy66VkDn7QyJeTtXQBPzdobEvFdAPvjggw8+WEBq/UqBWr9YQJYCtX6lQFlAwgcffPDBWUDuDIl5O0NaQBoS83aGxFpARhdddNFFW0ByHMdxHMdbQJ4hMW9nSFxAyiabbLLJXED2KwVq/UpdQCIxb2dIzF1ATjbZZJNNXkB6O0Ni3s5eQKZArV8pUF9A0kUXXXTRX0B/pUCtXylgQBWo9SsFamBAq6qqqqqqYEBBrV8pUOtgQNevFKj1K2FAbbLJJptsYUADtX6lQK1hQJm3MyTm7WFAL7rooosuYkDFvJ0hMW9iQFu/UqDWr2JA8cEHH3zwYkCHxLydITFjQB3HcRzHcWNAs8kmm2yyY0BJzNsZEvNjQN/OkJi3M2RAddFFF110ZEAL1PqVArVkQKHWrxSo9WRAN9lkk002ZUDN2xkS83ZlQGPezpCYt2VA+eCDDz74ZUCP4ziO4zhmQCXm7QyJeWZAu+iiiy66ZkBR61cK1PpmQOftDIl5O2dAffDBBx98Z0AT83aGxLxnQKn1KwVq/WdAPvjggw8+aEDU+pUCtX5oQGr9SoFav2hAAAAAAAAAaUA=\",\"dtype\":\"float64\",\"shape\":[100]},\"y\":{\"__ndarray__\":\"NjS0yHZ+MkC4ZY5gZoYyQDmXaPhVjjJAu8hCkEWWMkA8+hwoNZ4yQL4r978kpjJAQF3RVxSuMkDBjqvvA7YyQEPAhYfzvTJAxPFfH+PFMkBGIzq30s0yQMhUFE/C1TJASYbu5rHdMkDLt8h+oeUyQEzpohaR7TJAzhp9roD1MkBQTFdGcP0yQNF9Md5fBTNAU68Ldk8NM0DU4OUNPxUzQFYSwKUuHTNA2EOaPR4lM0BZdXTVDS0zQNumTm39NDNAXNgoBe08M0DeCQOd3EQzQGA73TTMTDNA4Wy3zLtUM0BjnpFkq1wzQOXPa/yaZDNAZgFGlIpsM0DoMiAsenQzQGlk+sNpfDNA65XUW1mEM0Btx67zSIwzQO74iIs4lDNAcCpjIyicM0DxWz27F6QzQHONF1MHrDNA9b7x6vazM0B28MuC5rszQPghphrWwzNAeVOAssXLM0D7hFpKtdMzQH22NOKk2zNA/ucOepTjM0CAGekRhOszQAJLw6lz8zNAg3ydQWP7M0AFrnfZUgM0QIbfUXFCCzRACBEsCTITNECJQgahIRs0QAt04DgRIzRAjaW60AArNEAO15Ro8DI0QJAIbwDgOjRAEjpJmM9CNECTayMwv0o0QBWd/ceuUjRAls7XX55aNEAYALL3jWI0QJoxjI99ajRAG2NmJ21yNECdlEC/XHo0QB7GGldMgjRAoPf07juKNEAiKc+GK5I0QKNaqR4bmjRAJYyDtgqiNECmvV1O+qk0QCjvN+bpsTRAqiASftm5NEArUuwVycE0QK2Dxq24yTRALrWgRajRNECw5nrdl9k0QDIYVXWH4TRAs0kvDXfpNEA1ewmlZvE0QLas4zxW+TRAON691EUBNUC6D5hsNQk1QDtBcgQlETVAvXJMnBQZNUA+pCY0BCE1QMDVAMzzKDVAQgfbY+MwNUDDOLX70jg1QEVqj5PCQDVAxptpK7JINUBIzUPDoVA1QMr+HVuRWDVASzD48oBgNUDNYdKKcGg1QE+TrCJgcDVA0MSGuk94NUBS9mBSP4A1QNMnO+ouiDVAVVkVgh6QNUA=\",\"dtype\":\"float64\",\"shape\":[100]}}},\"id\":\"c7a20810-e1f4-47d1-ac32-ccf94c071e67\",\"type\":\"ColumnDataSource\"},{\"attributes\":{\"plot\":{\"id\":\"18803228-4d8c-44df-8e25-3e6e2018d6d9\",\"subtype\":\"Figure\",\"type\":\"Plot\"},\"ticker\":{\"id\":\"77c3dad9-e511-467a-9399-d66c9162afd2\",\"type\":\"BasicTicker\"}},\"id\":\"efe38c4e-1308-4dd9-b6c0-3aa0718a2662\",\"type\":\"Grid\"}],\"root_ids\":[\"18803228-4d8c-44df-8e25-3e6e2018d6d9\"]},\"title\":\"Bokeh Application\",\"version\":\"0.12.10\"}};\n",
       "    var render_items = [{\"docid\":\"e9b3b0dd-a848-476c-ac00-5ca43ae08f2d\",\"elementid\":\"d2abe475-fb33-4643-b7e4-1bb6f4911bf8\",\"modelid\":\"18803228-4d8c-44df-8e25-3e6e2018d6d9\"}];\n",
       "\n",
       "    root.Bokeh.embed.embed_items(docs_json, render_items);\n",
       "  }\n",
       "\n",
       "  if (root.Bokeh !== undefined) {\n",
       "    embed_document(root);\n",
       "  } else {\n",
       "    var attempts = 0;\n",
       "    var timer = setInterval(function(root) {\n",
       "      if (root.Bokeh !== undefined) {\n",
       "        embed_document(root);\n",
       "        clearInterval(timer);\n",
       "      }\n",
       "      attempts++;\n",
       "      if (attempts > 100) {\n",
       "        console.log(\"Bokeh: ERROR: Unable to embed document because BokehJS library is missing\")\n",
       "        clearInterval(timer);\n",
       "      }\n",
       "    }, 10, root)\n",
       "  }\n",
       "})(window);"
      ],
      "application/vnd.bokehjs_exec.v0+json": ""
     },
     "metadata": {
      "application/vnd.bokehjs_exec.v0+json": {
       "id": "18803228-4d8c-44df-8e25-3e6e2018d6d9"
      }
     },
     "output_type": "display_data"
    }
   ],
   "source": [
    "plot = figure(plot_width=300, plot_height=300, x_axis_label='Seniority', y_axis_label='Income')\n",
    "plot.scatter(x=x_train_seniority, y=y_train_income, size=5)\n",
    "plot.line(x=np.linspace(0,200,100), y=model(np.linspace(0,25,100), w), line_width=5, color='red', alpha=0.5)\n",
    "show(plot)"
   ]
  },
  {
   "cell_type": "code",
   "execution_count": 51,
   "metadata": {},
   "outputs": [
    {
     "data": {
      "text/plain": [
       "array([ 18.494     ,   0.12275862])"
      ]
     },
     "execution_count": 51,
     "metadata": {},
     "output_type": "execute_result"
    }
   ],
   "source": [
    "w"
   ]
  },
  {
   "cell_type": "code",
   "execution_count": 52,
   "metadata": {},
   "outputs": [
    {
     "data": {
      "text/plain": [
       "843.67649405122745"
      ]
     },
     "execution_count": 52,
     "metadata": {},
     "output_type": "execute_result"
    }
   ],
   "source": [
    "loss(w)"
   ]
  },
  {
   "cell_type": "code",
   "execution_count": null,
   "metadata": {
    "collapsed": true
   },
   "outputs": [],
   "source": []
  }
 ],
 "metadata": {
  "kernelspec": {
   "display_name": "Python 3",
   "language": "python",
   "name": "python3"
  },
  "language_info": {
   "codemirror_mode": {
    "name": "ipython",
    "version": 3
   },
   "file_extension": ".py",
   "mimetype": "text/x-python",
   "name": "python",
   "nbconvert_exporter": "python",
   "pygments_lexer": "ipython3",
   "version": "3.6.3"
  }
 },
 "nbformat": 4,
 "nbformat_minor": 2
}
