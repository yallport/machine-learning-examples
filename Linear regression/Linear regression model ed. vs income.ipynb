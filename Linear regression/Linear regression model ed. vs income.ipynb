{
 "cells": [
  {
   "cell_type": "code",
   "execution_count": 17,
   "metadata": {
    "collapsed": true
   },
   "outputs": [],
   "source": [
    "import autograd.numpy as np\n",
    "import pandas as pd\n",
    "% matplotlib inline"
   ]
  },
  {
   "cell_type": "code",
   "execution_count": 28,
   "metadata": {},
   "outputs": [
    {
     "data": {
      "text/html": [
       "\n",
       "    <div class=\"bk-root\">\n",
       "        <a href=\"https://bokeh.pydata.org\" target=\"_blank\" class=\"bk-logo bk-logo-small bk-logo-notebook\"></a>\n",
       "        <span id=\"9e474e80-821b-47e5-8a02-850f2239f293\">Loading BokehJS ...</span>\n",
       "    </div>"
      ]
     },
     "metadata": {},
     "output_type": "display_data"
    },
    {
     "data": {
      "application/javascript": [
       "\n",
       "(function(root) {\n",
       "  function now() {\n",
       "    return new Date();\n",
       "  }\n",
       "\n",
       "  var force = true;\n",
       "\n",
       "  if (typeof (root._bokeh_onload_callbacks) === \"undefined\" || force === true) {\n",
       "    root._bokeh_onload_callbacks = [];\n",
       "    root._bokeh_is_loading = undefined;\n",
       "  }\n",
       "\n",
       "  var JS_MIME_TYPE = 'application/javascript';\n",
       "  var HTML_MIME_TYPE = 'text/html';\n",
       "  var EXEC_MIME_TYPE = 'application/vnd.bokehjs_exec.v0+json';\n",
       "  var CLASS_NAME = 'output_bokeh rendered_html';\n",
       "\n",
       "  /**\n",
       "   * Render data to the DOM node\n",
       "   */\n",
       "  function render(props, node) {\n",
       "    var script = document.createElement(\"script\");\n",
       "    node.appendChild(script);\n",
       "  }\n",
       "\n",
       "  /**\n",
       "   * Handle when an output is cleared or removed\n",
       "   */\n",
       "  function handleClearOutput(event, handle) {\n",
       "    var cell = handle.cell;\n",
       "\n",
       "    var id = cell.output_area._bokeh_element_id;\n",
       "    var server_id = cell.output_area._bokeh_server_id;\n",
       "    // Clean up Bokeh references\n",
       "    if (id !== undefined) {\n",
       "      Bokeh.index[id].model.document.clear();\n",
       "      delete Bokeh.index[id];\n",
       "    }\n",
       "\n",
       "    if (server_id !== undefined) {\n",
       "      // Clean up Bokeh references\n",
       "      var cmd = \"from bokeh.io.state import curstate; print(curstate().uuid_to_server['\" + server_id + \"'].get_sessions()[0].document.roots[0]._id)\";\n",
       "      cell.notebook.kernel.execute(cmd, {\n",
       "        iopub: {\n",
       "          output: function(msg) {\n",
       "            var element_id = msg.content.text.trim();\n",
       "            Bokeh.index[element_id].model.document.clear();\n",
       "            delete Bokeh.index[element_id];\n",
       "          }\n",
       "        }\n",
       "      });\n",
       "      // Destroy server and session\n",
       "      var cmd = \"import bokeh.io.notebook as ion; ion.destroy_server('\" + server_id + \"')\";\n",
       "      cell.notebook.kernel.execute(cmd);\n",
       "    }\n",
       "  }\n",
       "\n",
       "  /**\n",
       "   * Handle when a new output is added\n",
       "   */\n",
       "  function handleAddOutput(event, handle) {\n",
       "    var output_area = handle.output_area;\n",
       "    var output = handle.output;\n",
       "\n",
       "    // limit handleAddOutput to display_data with EXEC_MIME_TYPE content only\n",
       "    if ((output.output_type != \"display_data\") || (!output.data.hasOwnProperty(EXEC_MIME_TYPE))) {\n",
       "      return\n",
       "    }\n",
       "\n",
       "    var toinsert = output_area.element.find(`.${CLASS_NAME.split(' ')[0]}`);\n",
       "\n",
       "    if (output.metadata[EXEC_MIME_TYPE][\"id\"] !== undefined) {\n",
       "      toinsert[0].firstChild.textContent = output.data[JS_MIME_TYPE];\n",
       "      // store reference to embed id on output_area\n",
       "      output_area._bokeh_element_id = output.metadata[EXEC_MIME_TYPE][\"id\"];\n",
       "    }\n",
       "    if (output.metadata[EXEC_MIME_TYPE][\"server_id\"] !== undefined) {\n",
       "      var bk_div = document.createElement(\"div\");\n",
       "      bk_div.innerHTML = output.data[HTML_MIME_TYPE];\n",
       "      var script_attrs = bk_div.children[0].attributes;\n",
       "      for (var i = 0; i < script_attrs.length; i++) {\n",
       "        toinsert[0].firstChild.setAttribute(script_attrs[i].name, script_attrs[i].value);\n",
       "      }\n",
       "      // store reference to server id on output_area\n",
       "      output_area._bokeh_server_id = output.metadata[EXEC_MIME_TYPE][\"server_id\"];\n",
       "    }\n",
       "  }\n",
       "\n",
       "  function register_renderer(events, OutputArea) {\n",
       "\n",
       "    function append_mime(data, metadata, element) {\n",
       "      // create a DOM node to render to\n",
       "      var toinsert = this.create_output_subarea(\n",
       "        metadata,\n",
       "        CLASS_NAME,\n",
       "        EXEC_MIME_TYPE\n",
       "      );\n",
       "      this.keyboard_manager.register_events(toinsert);\n",
       "      // Render to node\n",
       "      var props = {data: data, metadata: metadata[EXEC_MIME_TYPE]};\n",
       "      render(props, toinsert[0]);\n",
       "      element.append(toinsert);\n",
       "      return toinsert\n",
       "    }\n",
       "\n",
       "    /* Handle when an output is cleared or removed */\n",
       "    events.on('clear_output.CodeCell', handleClearOutput);\n",
       "    events.on('delete.Cell', handleClearOutput);\n",
       "\n",
       "    /* Handle when a new output is added */\n",
       "    events.on('output_added.OutputArea', handleAddOutput);\n",
       "\n",
       "    /**\n",
       "     * Register the mime type and append_mime function with output_area\n",
       "     */\n",
       "    OutputArea.prototype.register_mime_type(EXEC_MIME_TYPE, append_mime, {\n",
       "      /* Is output safe? */\n",
       "      safe: true,\n",
       "      /* Index of renderer in `output_area.display_order` */\n",
       "      index: 0\n",
       "    });\n",
       "  }\n",
       "\n",
       "  // register the mime type if in Jupyter Notebook environment and previously unregistered\n",
       "  if (root.Jupyter !== undefined) {\n",
       "    var events = require('base/js/events');\n",
       "    var OutputArea = require('notebook/js/outputarea').OutputArea;\n",
       "\n",
       "    if (OutputArea.prototype.mime_types().indexOf(EXEC_MIME_TYPE) == -1) {\n",
       "      register_renderer(events, OutputArea);\n",
       "    }\n",
       "  }\n",
       "\n",
       "  \n",
       "  if (typeof (root._bokeh_timeout) === \"undefined\" || force === true) {\n",
       "    root._bokeh_timeout = Date.now() + 5000;\n",
       "    root._bokeh_failed_load = false;\n",
       "  }\n",
       "\n",
       "  var NB_LOAD_WARNING = {'data': {'text/html':\n",
       "     \"<div style='background-color: #fdd'>\\n\"+\n",
       "     \"<p>\\n\"+\n",
       "     \"BokehJS does not appear to have successfully loaded. If loading BokehJS from CDN, this \\n\"+\n",
       "     \"may be due to a slow or bad network connection. Possible fixes:\\n\"+\n",
       "     \"</p>\\n\"+\n",
       "     \"<ul>\\n\"+\n",
       "     \"<li>re-rerun `output_notebook()` to attempt to load from CDN again, or</li>\\n\"+\n",
       "     \"<li>use INLINE resources instead, as so:</li>\\n\"+\n",
       "     \"</ul>\\n\"+\n",
       "     \"<code>\\n\"+\n",
       "     \"from bokeh.resources import INLINE\\n\"+\n",
       "     \"output_notebook(resources=INLINE)\\n\"+\n",
       "     \"</code>\\n\"+\n",
       "     \"</div>\"}};\n",
       "\n",
       "  function display_loaded() {\n",
       "    var el = document.getElementById(\"9e474e80-821b-47e5-8a02-850f2239f293\");\n",
       "    if (el != null) {\n",
       "      el.textContent = \"BokehJS is loading...\";\n",
       "    }\n",
       "    if (root.Bokeh !== undefined) {\n",
       "      if (el != null) {\n",
       "        el.textContent = \"BokehJS \" + root.Bokeh.version + \" successfully loaded.\";\n",
       "      }\n",
       "    } else if (Date.now() < root._bokeh_timeout) {\n",
       "      setTimeout(display_loaded, 100)\n",
       "    }\n",
       "  }\n",
       "\n",
       "\n",
       "  function run_callbacks() {\n",
       "    try {\n",
       "      root._bokeh_onload_callbacks.forEach(function(callback) { callback() });\n",
       "    }\n",
       "    finally {\n",
       "      delete root._bokeh_onload_callbacks\n",
       "    }\n",
       "    console.info(\"Bokeh: all callbacks have finished\");\n",
       "  }\n",
       "\n",
       "  function load_libs(js_urls, callback) {\n",
       "    root._bokeh_onload_callbacks.push(callback);\n",
       "    if (root._bokeh_is_loading > 0) {\n",
       "      console.log(\"Bokeh: BokehJS is being loaded, scheduling callback at\", now());\n",
       "      return null;\n",
       "    }\n",
       "    if (js_urls == null || js_urls.length === 0) {\n",
       "      run_callbacks();\n",
       "      return null;\n",
       "    }\n",
       "    console.log(\"Bokeh: BokehJS not loaded, scheduling load and callback at\", now());\n",
       "    root._bokeh_is_loading = js_urls.length;\n",
       "    for (var i = 0; i < js_urls.length; i++) {\n",
       "      var url = js_urls[i];\n",
       "      var s = document.createElement('script');\n",
       "      s.src = url;\n",
       "      s.async = false;\n",
       "      s.onreadystatechange = s.onload = function() {\n",
       "        root._bokeh_is_loading--;\n",
       "        if (root._bokeh_is_loading === 0) {\n",
       "          console.log(\"Bokeh: all BokehJS libraries loaded\");\n",
       "          run_callbacks()\n",
       "        }\n",
       "      };\n",
       "      s.onerror = function() {\n",
       "        console.warn(\"failed to load library \" + url);\n",
       "      };\n",
       "      console.log(\"Bokeh: injecting script tag for BokehJS library: \", url);\n",
       "      document.getElementsByTagName(\"head\")[0].appendChild(s);\n",
       "    }\n",
       "  };var element = document.getElementById(\"9e474e80-821b-47e5-8a02-850f2239f293\");\n",
       "  if (element == null) {\n",
       "    console.log(\"Bokeh: ERROR: autoload.js configured with elementid '9e474e80-821b-47e5-8a02-850f2239f293' but no matching script tag was found. \")\n",
       "    return false;\n",
       "  }\n",
       "\n",
       "  var js_urls = [\"https://cdn.pydata.org/bokeh/release/bokeh-0.12.10.min.js\", \"https://cdn.pydata.org/bokeh/release/bokeh-widgets-0.12.10.min.js\", \"https://cdn.pydata.org/bokeh/release/bokeh-tables-0.12.10.min.js\", \"https://cdn.pydata.org/bokeh/release/bokeh-gl-0.12.10.min.js\"];\n",
       "\n",
       "  var inline_js = [\n",
       "    function(Bokeh) {\n",
       "      Bokeh.set_log_level(\"info\");\n",
       "    },\n",
       "    \n",
       "    function(Bokeh) {\n",
       "      \n",
       "    },\n",
       "    function(Bokeh) {\n",
       "      console.log(\"Bokeh: injecting CSS: https://cdn.pydata.org/bokeh/release/bokeh-0.12.10.min.css\");\n",
       "      Bokeh.embed.inject_css(\"https://cdn.pydata.org/bokeh/release/bokeh-0.12.10.min.css\");\n",
       "      console.log(\"Bokeh: injecting CSS: https://cdn.pydata.org/bokeh/release/bokeh-widgets-0.12.10.min.css\");\n",
       "      Bokeh.embed.inject_css(\"https://cdn.pydata.org/bokeh/release/bokeh-widgets-0.12.10.min.css\");\n",
       "      console.log(\"Bokeh: injecting CSS: https://cdn.pydata.org/bokeh/release/bokeh-tables-0.12.10.min.css\");\n",
       "      Bokeh.embed.inject_css(\"https://cdn.pydata.org/bokeh/release/bokeh-tables-0.12.10.min.css\");\n",
       "    }\n",
       "  ];\n",
       "\n",
       "  function run_inline_js() {\n",
       "    \n",
       "    if ((root.Bokeh !== undefined) || (force === true)) {\n",
       "      for (var i = 0; i < inline_js.length; i++) {\n",
       "        inline_js[i].call(root, root.Bokeh);\n",
       "      }if (force === true) {\n",
       "        display_loaded();\n",
       "      }} else if (Date.now() < root._bokeh_timeout) {\n",
       "      setTimeout(run_inline_js, 100);\n",
       "    } else if (!root._bokeh_failed_load) {\n",
       "      console.log(\"Bokeh: BokehJS failed to load within specified timeout.\");\n",
       "      root._bokeh_failed_load = true;\n",
       "    } else if (force !== true) {\n",
       "      var cell = $(document.getElementById(\"9e474e80-821b-47e5-8a02-850f2239f293\")).parents('.cell').data().cell;\n",
       "      cell.output_area.append_execute_result(NB_LOAD_WARNING)\n",
       "    }\n",
       "\n",
       "  }\n",
       "\n",
       "  if (root._bokeh_is_loading === 0) {\n",
       "    console.log(\"Bokeh: BokehJS loaded, going straight to plotting\");\n",
       "    run_inline_js();\n",
       "  } else {\n",
       "    load_libs(js_urls, function() {\n",
       "      console.log(\"Bokeh: BokehJS plotting callback run at\", now());\n",
       "      run_inline_js();\n",
       "    });\n",
       "  }\n",
       "}(window));"
      ],
      "application/vnd.bokehjs_load.v0+json": "\n(function(root) {\n  function now() {\n    return new Date();\n  }\n\n  var force = true;\n\n  if (typeof (root._bokeh_onload_callbacks) === \"undefined\" || force === true) {\n    root._bokeh_onload_callbacks = [];\n    root._bokeh_is_loading = undefined;\n  }\n\n  \n\n  \n  if (typeof (root._bokeh_timeout) === \"undefined\" || force === true) {\n    root._bokeh_timeout = Date.now() + 5000;\n    root._bokeh_failed_load = false;\n  }\n\n  var NB_LOAD_WARNING = {'data': {'text/html':\n     \"<div style='background-color: #fdd'>\\n\"+\n     \"<p>\\n\"+\n     \"BokehJS does not appear to have successfully loaded. If loading BokehJS from CDN, this \\n\"+\n     \"may be due to a slow or bad network connection. Possible fixes:\\n\"+\n     \"</p>\\n\"+\n     \"<ul>\\n\"+\n     \"<li>re-rerun `output_notebook()` to attempt to load from CDN again, or</li>\\n\"+\n     \"<li>use INLINE resources instead, as so:</li>\\n\"+\n     \"</ul>\\n\"+\n     \"<code>\\n\"+\n     \"from bokeh.resources import INLINE\\n\"+\n     \"output_notebook(resources=INLINE)\\n\"+\n     \"</code>\\n\"+\n     \"</div>\"}};\n\n  function display_loaded() {\n    var el = document.getElementById(\"9e474e80-821b-47e5-8a02-850f2239f293\");\n    if (el != null) {\n      el.textContent = \"BokehJS is loading...\";\n    }\n    if (root.Bokeh !== undefined) {\n      if (el != null) {\n        el.textContent = \"BokehJS \" + root.Bokeh.version + \" successfully loaded.\";\n      }\n    } else if (Date.now() < root._bokeh_timeout) {\n      setTimeout(display_loaded, 100)\n    }\n  }\n\n\n  function run_callbacks() {\n    try {\n      root._bokeh_onload_callbacks.forEach(function(callback) { callback() });\n    }\n    finally {\n      delete root._bokeh_onload_callbacks\n    }\n    console.info(\"Bokeh: all callbacks have finished\");\n  }\n\n  function load_libs(js_urls, callback) {\n    root._bokeh_onload_callbacks.push(callback);\n    if (root._bokeh_is_loading > 0) {\n      console.log(\"Bokeh: BokehJS is being loaded, scheduling callback at\", now());\n      return null;\n    }\n    if (js_urls == null || js_urls.length === 0) {\n      run_callbacks();\n      return null;\n    }\n    console.log(\"Bokeh: BokehJS not loaded, scheduling load and callback at\", now());\n    root._bokeh_is_loading = js_urls.length;\n    for (var i = 0; i < js_urls.length; i++) {\n      var url = js_urls[i];\n      var s = document.createElement('script');\n      s.src = url;\n      s.async = false;\n      s.onreadystatechange = s.onload = function() {\n        root._bokeh_is_loading--;\n        if (root._bokeh_is_loading === 0) {\n          console.log(\"Bokeh: all BokehJS libraries loaded\");\n          run_callbacks()\n        }\n      };\n      s.onerror = function() {\n        console.warn(\"failed to load library \" + url);\n      };\n      console.log(\"Bokeh: injecting script tag for BokehJS library: \", url);\n      document.getElementsByTagName(\"head\")[0].appendChild(s);\n    }\n  };var element = document.getElementById(\"9e474e80-821b-47e5-8a02-850f2239f293\");\n  if (element == null) {\n    console.log(\"Bokeh: ERROR: autoload.js configured with elementid '9e474e80-821b-47e5-8a02-850f2239f293' but no matching script tag was found. \")\n    return false;\n  }\n\n  var js_urls = [\"https://cdn.pydata.org/bokeh/release/bokeh-0.12.10.min.js\", \"https://cdn.pydata.org/bokeh/release/bokeh-widgets-0.12.10.min.js\", \"https://cdn.pydata.org/bokeh/release/bokeh-tables-0.12.10.min.js\", \"https://cdn.pydata.org/bokeh/release/bokeh-gl-0.12.10.min.js\"];\n\n  var inline_js = [\n    function(Bokeh) {\n      Bokeh.set_log_level(\"info\");\n    },\n    \n    function(Bokeh) {\n      \n    },\n    function(Bokeh) {\n      console.log(\"Bokeh: injecting CSS: https://cdn.pydata.org/bokeh/release/bokeh-0.12.10.min.css\");\n      Bokeh.embed.inject_css(\"https://cdn.pydata.org/bokeh/release/bokeh-0.12.10.min.css\");\n      console.log(\"Bokeh: injecting CSS: https://cdn.pydata.org/bokeh/release/bokeh-widgets-0.12.10.min.css\");\n      Bokeh.embed.inject_css(\"https://cdn.pydata.org/bokeh/release/bokeh-widgets-0.12.10.min.css\");\n      console.log(\"Bokeh: injecting CSS: https://cdn.pydata.org/bokeh/release/bokeh-tables-0.12.10.min.css\");\n      Bokeh.embed.inject_css(\"https://cdn.pydata.org/bokeh/release/bokeh-tables-0.12.10.min.css\");\n    }\n  ];\n\n  function run_inline_js() {\n    \n    if ((root.Bokeh !== undefined) || (force === true)) {\n      for (var i = 0; i < inline_js.length; i++) {\n        inline_js[i].call(root, root.Bokeh);\n      }if (force === true) {\n        display_loaded();\n      }} else if (Date.now() < root._bokeh_timeout) {\n      setTimeout(run_inline_js, 100);\n    } else if (!root._bokeh_failed_load) {\n      console.log(\"Bokeh: BokehJS failed to load within specified timeout.\");\n      root._bokeh_failed_load = true;\n    } else if (force !== true) {\n      var cell = $(document.getElementById(\"9e474e80-821b-47e5-8a02-850f2239f293\")).parents('.cell').data().cell;\n      cell.output_area.append_execute_result(NB_LOAD_WARNING)\n    }\n\n  }\n\n  if (root._bokeh_is_loading === 0) {\n    console.log(\"Bokeh: BokehJS loaded, going straight to plotting\");\n    run_inline_js();\n  } else {\n    load_libs(js_urls, function() {\n      console.log(\"Bokeh: BokehJS plotting callback run at\", now());\n      run_inline_js();\n    });\n  }\n}(window));"
     },
     "metadata": {},
     "output_type": "display_data"
    }
   ],
   "source": [
    "from autograd import grad\n",
    "from bokeh.plotting import output_notebook, figure, show\n",
    "output_notebook()"
   ]
  },
  {
   "cell_type": "code",
   "execution_count": 91,
   "metadata": {
    "scrolled": false
   },
   "outputs": [
    {
     "data": {
      "text/html": [
       "<div>\n",
       "<style>\n",
       "    .dataframe thead tr:only-child th {\n",
       "        text-align: right;\n",
       "    }\n",
       "\n",
       "    .dataframe thead th {\n",
       "        text-align: left;\n",
       "    }\n",
       "\n",
       "    .dataframe tbody tr th {\n",
       "        vertical-align: top;\n",
       "    }\n",
       "</style>\n",
       "<table border=\"1\" class=\"dataframe\">\n",
       "  <thead>\n",
       "    <tr style=\"text-align: right;\">\n",
       "      <th></th>\n",
       "      <th>Unnamed: 0</th>\n",
       "      <th>Education</th>\n",
       "      <th>Income</th>\n",
       "    </tr>\n",
       "  </thead>\n",
       "  <tbody>\n",
       "    <tr>\n",
       "      <th>23</th>\n",
       "      <td>24</td>\n",
       "      <td>19.511706</td>\n",
       "      <td>71.867195</td>\n",
       "    </tr>\n",
       "    <tr>\n",
       "      <th>24</th>\n",
       "      <td>25</td>\n",
       "      <td>19.913043</td>\n",
       "      <td>76.098135</td>\n",
       "    </tr>\n",
       "    <tr>\n",
       "      <th>25</th>\n",
       "      <td>26</td>\n",
       "      <td>20.354515</td>\n",
       "      <td>75.775218</td>\n",
       "    </tr>\n",
       "    <tr>\n",
       "      <th>26</th>\n",
       "      <td>27</td>\n",
       "      <td>20.755853</td>\n",
       "      <td>72.486055</td>\n",
       "    </tr>\n",
       "    <tr>\n",
       "      <th>27</th>\n",
       "      <td>28</td>\n",
       "      <td>21.157191</td>\n",
       "      <td>77.355021</td>\n",
       "    </tr>\n",
       "  </tbody>\n",
       "</table>\n",
       "</div>"
      ],
      "text/plain": [
       "    Unnamed: 0  Education     Income\n",
       "23          24  19.511706  71.867195\n",
       "24          25  19.913043  76.098135\n",
       "25          26  20.354515  75.775218\n",
       "26          27  20.755853  72.486055\n",
       "27          28  21.157191  77.355021"
      ]
     },
     "execution_count": 91,
     "metadata": {},
     "output_type": "execute_result"
    }
   ],
   "source": [
    "train = pd.read_csv('Income1.csv')[:23]\n",
    "test = pd.read_csv('Income1.csv')[23:]\n",
    "\n",
    "test.head()"
   ]
  },
  {
   "cell_type": "code",
   "execution_count": 87,
   "metadata": {
    "collapsed": true
   },
   "outputs": [],
   "source": [
    "x_train_education = train['Education']\n",
    "y_train_income = train['Income']\n",
    "x_test_education = test['Education']\n",
    "y_test_income = test['Income']\n",
    "\n",
    "train_education_np = np.array(x_train_education)\n",
    "train_income_np = np.array(y_train_income)\n",
    "test_education_np = np.array(x_test_education)\n",
    "test_income_np = np.array(y_test_income)"
   ]
  },
  {
   "cell_type": "code",
   "execution_count": 80,
   "metadata": {},
   "outputs": [
    {
     "data": {
      "text/html": [
       "\n",
       "<div class=\"bk-root\">\n",
       "    <div class=\"bk-plotdiv\" id=\"6163c83d-0ed2-4c77-8ade-a8220bb32e8c\"></div>\n",
       "</div>"
      ]
     },
     "metadata": {},
     "output_type": "display_data"
    },
    {
     "data": {
      "application/javascript": [
       "(function(root) {\n",
       "  function embed_document(root) {\n",
       "    var docs_json = {\"14560d8e-7cbe-474c-ac0e-abcb8e1dc661\":{\"roots\":{\"references\":[{\"attributes\":{\"callback\":null},\"id\":\"fe1d2c3b-1ce4-4dab-8fcb-e445a45772ce\",\"type\":\"DataRange1d\"},{\"attributes\":{},\"id\":\"766a4ab5-917e-4b76-9ca9-f98611e99c21\",\"type\":\"LinearScale\"},{\"attributes\":{\"overlay\":{\"id\":\"80b6a407-07a3-4958-afc2-21fa590dfac7\",\"type\":\"BoxAnnotation\"}},\"id\":\"a8b1794b-6aae-4dc5-a44a-62bba718cd73\",\"type\":\"BoxZoomTool\"},{\"attributes\":{},\"id\":\"8a97ccf8-2770-4e61-82e7-7ffe04fcfa9c\",\"type\":\"ResetTool\"},{\"attributes\":{},\"id\":\"2e8b0f37-6e56-4729-a787-328dd2b7b887\",\"type\":\"SaveTool\"},{\"attributes\":{},\"id\":\"d63a2b26-1e3b-4804-bc11-4913c894baa4\",\"type\":\"BasicTickFormatter\"},{\"attributes\":{\"source\":{\"id\":\"d5c62e1e-0116-492f-b138-1fdefec63f89\",\"type\":\"ColumnDataSource\"}},\"id\":\"8055140c-7535-4d60-8fed-b962107763a9\",\"type\":\"CDSView\"},{\"attributes\":{\"dimension\":1,\"plot\":{\"id\":\"ba1338a4-a245-4e33-baab-6204229aea5f\",\"subtype\":\"Figure\",\"type\":\"Plot\"},\"ticker\":{\"id\":\"408b5e8f-a2bd-4db1-a5f2-c1136e282209\",\"type\":\"BasicTicker\"}},\"id\":\"6239b29b-e538-4d0e-b3d6-2e361a9a6cbd\",\"type\":\"Grid\"},{\"attributes\":{\"axis_label\":\"Education\",\"formatter\":{\"id\":\"d63a2b26-1e3b-4804-bc11-4913c894baa4\",\"type\":\"BasicTickFormatter\"},\"plot\":{\"id\":\"ba1338a4-a245-4e33-baab-6204229aea5f\",\"subtype\":\"Figure\",\"type\":\"Plot\"},\"ticker\":{\"id\":\"d75b1f97-dc33-4944-b5bc-0cb06820ea45\",\"type\":\"BasicTicker\"}},\"id\":\"bb18e8d8-840b-430b-816a-b93aa2667093\",\"type\":\"LinearAxis\"},{\"attributes\":{\"plot\":{\"id\":\"ba1338a4-a245-4e33-baab-6204229aea5f\",\"subtype\":\"Figure\",\"type\":\"Plot\"},\"ticker\":{\"id\":\"d75b1f97-dc33-4944-b5bc-0cb06820ea45\",\"type\":\"BasicTicker\"}},\"id\":\"f163e9b7-f3fb-4ddb-96af-efbef2562b32\",\"type\":\"Grid\"},{\"attributes\":{\"fill_alpha\":{\"value\":0.1},\"fill_color\":{\"value\":\"#1f77b4\"},\"line_alpha\":{\"value\":0.1},\"line_color\":{\"value\":\"#1f77b4\"},\"size\":{\"units\":\"screen\",\"value\":5},\"x\":{\"field\":\"x\"},\"y\":{\"field\":\"y\"}},\"id\":\"6397771d-5dde-4b3e-8525-cdaebfa34f08\",\"type\":\"Circle\"},{\"attributes\":{\"fill_color\":{\"value\":\"#1f77b4\"},\"line_color\":{\"value\":\"#1f77b4\"},\"size\":{\"units\":\"screen\",\"value\":5},\"x\":{\"field\":\"x\"},\"y\":{\"field\":\"y\"}},\"id\":\"c9ec9dce-1586-4eaf-9fb1-16b65a03c4ac\",\"type\":\"Circle\"},{\"attributes\":{},\"id\":\"ed777bf2-909d-4c3f-8341-d195dcbf6608\",\"type\":\"LinearScale\"},{\"attributes\":{\"callback\":null},\"id\":\"b5e252cb-ac61-4be6-9496-e3e42ad83d84\",\"type\":\"DataRange1d\"},{\"attributes\":{\"axis_label\":\"Income\",\"formatter\":{\"id\":\"4be0d8ea-3620-44b0-ae64-8afa40190e6c\",\"type\":\"BasicTickFormatter\"},\"plot\":{\"id\":\"ba1338a4-a245-4e33-baab-6204229aea5f\",\"subtype\":\"Figure\",\"type\":\"Plot\"},\"ticker\":{\"id\":\"408b5e8f-a2bd-4db1-a5f2-c1136e282209\",\"type\":\"BasicTicker\"}},\"id\":\"6286945b-22d3-450c-9adf-49bb2fdeaf14\",\"type\":\"LinearAxis\"},{\"attributes\":{},\"id\":\"6e568d18-bd5e-4327-87c4-a5419f1076bf\",\"type\":\"PanTool\"},{\"attributes\":{\"below\":[{\"id\":\"bb18e8d8-840b-430b-816a-b93aa2667093\",\"type\":\"LinearAxis\"}],\"left\":[{\"id\":\"6286945b-22d3-450c-9adf-49bb2fdeaf14\",\"type\":\"LinearAxis\"}],\"plot_height\":300,\"plot_width\":300,\"renderers\":[{\"id\":\"bb18e8d8-840b-430b-816a-b93aa2667093\",\"type\":\"LinearAxis\"},{\"id\":\"f163e9b7-f3fb-4ddb-96af-efbef2562b32\",\"type\":\"Grid\"},{\"id\":\"6286945b-22d3-450c-9adf-49bb2fdeaf14\",\"type\":\"LinearAxis\"},{\"id\":\"6239b29b-e538-4d0e-b3d6-2e361a9a6cbd\",\"type\":\"Grid\"},{\"id\":\"80b6a407-07a3-4958-afc2-21fa590dfac7\",\"type\":\"BoxAnnotation\"},{\"id\":\"edb5198f-0a79-4c0e-a708-87d8b163031e\",\"type\":\"GlyphRenderer\"}],\"title\":{\"id\":\"723e18f7-1fc9-48ce-a013-f3e8e1f1ae07\",\"type\":\"Title\"},\"toolbar\":{\"id\":\"89dbb6a1-47a7-4521-9f34-cfa208804406\",\"type\":\"Toolbar\"},\"x_range\":{\"id\":\"b5e252cb-ac61-4be6-9496-e3e42ad83d84\",\"type\":\"DataRange1d\"},\"x_scale\":{\"id\":\"ed777bf2-909d-4c3f-8341-d195dcbf6608\",\"type\":\"LinearScale\"},\"y_range\":{\"id\":\"fe1d2c3b-1ce4-4dab-8fcb-e445a45772ce\",\"type\":\"DataRange1d\"},\"y_scale\":{\"id\":\"766a4ab5-917e-4b76-9ca9-f98611e99c21\",\"type\":\"LinearScale\"}},\"id\":\"ba1338a4-a245-4e33-baab-6204229aea5f\",\"subtype\":\"Figure\",\"type\":\"Plot\"},{\"attributes\":{\"data_source\":{\"id\":\"d5c62e1e-0116-492f-b138-1fdefec63f89\",\"type\":\"ColumnDataSource\"},\"glyph\":{\"id\":\"c9ec9dce-1586-4eaf-9fb1-16b65a03c4ac\",\"type\":\"Circle\"},\"hover_glyph\":null,\"muted_glyph\":null,\"nonselection_glyph\":{\"id\":\"6397771d-5dde-4b3e-8525-cdaebfa34f08\",\"type\":\"Circle\"},\"selection_glyph\":null,\"view\":{\"id\":\"8055140c-7535-4d60-8fed-b962107763a9\",\"type\":\"CDSView\"}},\"id\":\"edb5198f-0a79-4c0e-a708-87d8b163031e\",\"type\":\"GlyphRenderer\"},{\"attributes\":{\"active_drag\":\"auto\",\"active_inspect\":\"auto\",\"active_scroll\":\"auto\",\"active_tap\":\"auto\",\"tools\":[{\"id\":\"6e568d18-bd5e-4327-87c4-a5419f1076bf\",\"type\":\"PanTool\"},{\"id\":\"f850429c-7a07-4824-aa03-7072196fff96\",\"type\":\"WheelZoomTool\"},{\"id\":\"a8b1794b-6aae-4dc5-a44a-62bba718cd73\",\"type\":\"BoxZoomTool\"},{\"id\":\"2e8b0f37-6e56-4729-a787-328dd2b7b887\",\"type\":\"SaveTool\"},{\"id\":\"8a97ccf8-2770-4e61-82e7-7ffe04fcfa9c\",\"type\":\"ResetTool\"},{\"id\":\"fbbad587-b83a-4ad4-83dd-2598567e7460\",\"type\":\"HelpTool\"}]},\"id\":\"89dbb6a1-47a7-4521-9f34-cfa208804406\",\"type\":\"Toolbar\"},{\"attributes\":{\"callback\":null,\"column_names\":[\"x\",\"y\"],\"data\":{\"x\":{\"__ndarray__\":\"AAAAAAAAJEDiF6wlfM0kQCf/grWEryVAChcv2wB9JkAmL9sAfUonQDEWspCFLChATS5etgH6KEAvRgrcfccpQEletgH6lCpAV0WNkQJ3K0A5XTm3fkQsQFJ15dz6ES1AYFy8bAP0LUB7dGiSf8EuQF2MFLj7ji9A0bn1I4I4MEDCxcs2QJ8wQNDRoUn+BTFAV0WNkQJ3MUBjUWOkwN0xQFVdObd+RDJA29Ak/4K1MkDp3PoRQRwzQA==\",\"dtype\":\"float64\",\"shape\":[23]},\"y\":{\"__ndarray__\":\"3TSUqKmoOkCWc/yLck47QL29DKLlITZAMdLUqnorNUDeXTrcoGIuQDaiyKchZjpATbN+QHBvMUADPTfEBII5QCv6IGY6cUJAGFcrDUPVQ0DxfU9SuTJBQKCyjkC+v0RAiSzGPqR9RkCivBh1EYVHQM8DRHxUIEhAJ/IKWWKETEBVgtBw1r5JQNmQ3GEWq05AkWOyln7KTEANS+wMcCNRQMm2PjPmE1BAR5rFZWA9UUBW7fw/VqdSQA==\",\"dtype\":\"float64\",\"shape\":[23]}}},\"id\":\"d5c62e1e-0116-492f-b138-1fdefec63f89\",\"type\":\"ColumnDataSource\"},{\"attributes\":{\"plot\":null,\"text\":\"\"},\"id\":\"723e18f7-1fc9-48ce-a013-f3e8e1f1ae07\",\"type\":\"Title\"},{\"attributes\":{},\"id\":\"fbbad587-b83a-4ad4-83dd-2598567e7460\",\"type\":\"HelpTool\"},{\"attributes\":{},\"id\":\"f850429c-7a07-4824-aa03-7072196fff96\",\"type\":\"WheelZoomTool\"},{\"attributes\":{},\"id\":\"408b5e8f-a2bd-4db1-a5f2-c1136e282209\",\"type\":\"BasicTicker\"},{\"attributes\":{},\"id\":\"d75b1f97-dc33-4944-b5bc-0cb06820ea45\",\"type\":\"BasicTicker\"},{\"attributes\":{},\"id\":\"4be0d8ea-3620-44b0-ae64-8afa40190e6c\",\"type\":\"BasicTickFormatter\"},{\"attributes\":{\"bottom_units\":\"screen\",\"fill_alpha\":{\"value\":0.5},\"fill_color\":{\"value\":\"lightgrey\"},\"left_units\":\"screen\",\"level\":\"overlay\",\"line_alpha\":{\"value\":1.0},\"line_color\":{\"value\":\"black\"},\"line_dash\":[4,4],\"line_width\":{\"value\":2},\"plot\":null,\"render_mode\":\"css\",\"right_units\":\"screen\",\"top_units\":\"screen\"},\"id\":\"80b6a407-07a3-4958-afc2-21fa590dfac7\",\"type\":\"BoxAnnotation\"}],\"root_ids\":[\"ba1338a4-a245-4e33-baab-6204229aea5f\"]},\"title\":\"Bokeh Application\",\"version\":\"0.12.10\"}};\n",
       "    var render_items = [{\"docid\":\"14560d8e-7cbe-474c-ac0e-abcb8e1dc661\",\"elementid\":\"6163c83d-0ed2-4c77-8ade-a8220bb32e8c\",\"modelid\":\"ba1338a4-a245-4e33-baab-6204229aea5f\"}];\n",
       "\n",
       "    root.Bokeh.embed.embed_items(docs_json, render_items);\n",
       "  }\n",
       "\n",
       "  if (root.Bokeh !== undefined) {\n",
       "    embed_document(root);\n",
       "  } else {\n",
       "    var attempts = 0;\n",
       "    var timer = setInterval(function(root) {\n",
       "      if (root.Bokeh !== undefined) {\n",
       "        embed_document(root);\n",
       "        clearInterval(timer);\n",
       "      }\n",
       "      attempts++;\n",
       "      if (attempts > 100) {\n",
       "        console.log(\"Bokeh: ERROR: Unable to embed document because BokehJS library is missing\")\n",
       "        clearInterval(timer);\n",
       "      }\n",
       "    }, 10, root)\n",
       "  }\n",
       "})(window);"
      ],
      "application/vnd.bokehjs_exec.v0+json": ""
     },
     "metadata": {
      "application/vnd.bokehjs_exec.v0+json": {
       "id": "ba1338a4-a245-4e33-baab-6204229aea5f"
      }
     },
     "output_type": "display_data"
    }
   ],
   "source": [
    "plot = figure(plot_width=300, plot_height=300, x_axis_label='Education', y_axis_label='Income')\n",
    "plot.scatter(x=x_train_education, y=y_train_income, size=5)\n",
    "show(plot)"
   ]
  },
  {
   "cell_type": "code",
   "execution_count": 81,
   "metadata": {
    "collapsed": true
   },
   "outputs": [],
   "source": [
    "w = np.array([0., 0.])\n",
    "\n",
    "def model(x, w):\n",
    "    return (w[1] * x) + w[0]\n",
    "\n",
    "def loss(w):\n",
    "    return np.sum(np.sqrt((model(train_education_np, w) - train_income_np)**2))\n",
    "\n",
    "model_grad = grad(loss)"
   ]
  },
  {
   "cell_type": "code",
   "execution_count": 82,
   "metadata": {},
   "outputs": [
    {
     "data": {
      "text/plain": [
       "array([ 0.,  0.,  0.,  0.,  0.,  0.,  0.,  0.,  0.,  0.,  0.,  0.,  0.,\n",
       "        0.,  0.,  0.,  0.,  0.,  0.,  0.,  0.,  0.,  0.])"
      ]
     },
     "execution_count": 82,
     "metadata": {},
     "output_type": "execute_result"
    }
   ],
   "source": [
    "model(train_education_np, w)"
   ]
  },
  {
   "cell_type": "code",
   "execution_count": 83,
   "metadata": {},
   "outputs": [
    {
     "data": {
      "text/plain": [
       "978.40309364809866"
      ]
     },
     "execution_count": 83,
     "metadata": {},
     "output_type": "execute_result"
    }
   ],
   "source": [
    "loss(w)"
   ]
  },
  {
   "cell_type": "code",
   "execution_count": 84,
   "metadata": {},
   "outputs": [
    {
     "data": {
      "text/plain": [
       "array([ -23.       , -334.7090301])"
      ]
     },
     "execution_count": 84,
     "metadata": {},
     "output_type": "execute_result"
    }
   ],
   "source": [
    "model_grad(w)"
   ]
  },
  {
   "cell_type": "code",
   "execution_count": 85,
   "metadata": {},
   "outputs": [
    {
     "data": {
      "text/html": [
       "\n",
       "<div class=\"bk-root\">\n",
       "    <div class=\"bk-plotdiv\" id=\"4637cabe-4f08-453d-9834-0ba459fccdc6\"></div>\n",
       "</div>"
      ]
     },
     "metadata": {},
     "output_type": "display_data"
    },
    {
     "data": {
      "application/javascript": [
       "(function(root) {\n",
       "  function embed_document(root) {\n",
       "    var docs_json = {\"a0e63d24-30dc-4851-a8ca-08f316c77b72\":{\"roots\":{\"references\":[{\"attributes\":{\"fill_alpha\":{\"value\":0.1},\"fill_color\":{\"value\":\"#1f77b4\"},\"line_alpha\":{\"value\":0.1},\"line_color\":{\"value\":\"#1f77b4\"},\"size\":{\"units\":\"screen\",\"value\":5},\"x\":{\"field\":\"x\"},\"y\":{\"field\":\"y\"}},\"id\":\"8d99c7cb-93e6-4fc6-b14d-b5aa19e7751f\",\"type\":\"Circle\"},{\"attributes\":{\"axis_label\":\"Income\",\"formatter\":{\"id\":\"942bd8f8-d9b6-414f-a9d6-9156dbf8455c\",\"type\":\"BasicTickFormatter\"},\"plot\":{\"id\":\"40563b29-746d-46c7-b573-2066bbcab415\",\"subtype\":\"Figure\",\"type\":\"Plot\"},\"ticker\":{\"id\":\"ffb9a27f-b8cc-4e51-b889-e76cba7a4f61\",\"type\":\"BasicTicker\"}},\"id\":\"bd6cf661-3bd0-4816-9871-640a0ebb61c0\",\"type\":\"LinearAxis\"},{\"attributes\":{},\"id\":\"ffb9a27f-b8cc-4e51-b889-e76cba7a4f61\",\"type\":\"BasicTicker\"},{\"attributes\":{\"dimension\":1,\"plot\":{\"id\":\"40563b29-746d-46c7-b573-2066bbcab415\",\"subtype\":\"Figure\",\"type\":\"Plot\"},\"ticker\":{\"id\":\"ffb9a27f-b8cc-4e51-b889-e76cba7a4f61\",\"type\":\"BasicTicker\"}},\"id\":\"f4be2ce2-da9e-4f95-a1e9-dc174bae9ca9\",\"type\":\"Grid\"},{\"attributes\":{\"data_source\":{\"id\":\"dccd6174-a7c8-42c6-a16f-2ba0c75ee577\",\"type\":\"ColumnDataSource\"},\"glyph\":{\"id\":\"e7b375c1-5235-4902-893b-e88a5c9df4ed\",\"type\":\"Circle\"},\"hover_glyph\":null,\"muted_glyph\":null,\"nonselection_glyph\":{\"id\":\"8d99c7cb-93e6-4fc6-b14d-b5aa19e7751f\",\"type\":\"Circle\"},\"selection_glyph\":null,\"view\":{\"id\":\"7e63e546-5a59-409b-8d1d-b00e0c9f006c\",\"type\":\"CDSView\"}},\"id\":\"3fdef051-b01b-4ece-b68c-9aa4b8d1d615\",\"type\":\"GlyphRenderer\"},{\"attributes\":{},\"id\":\"942bd8f8-d9b6-414f-a9d6-9156dbf8455c\",\"type\":\"BasicTickFormatter\"},{\"attributes\":{\"bottom_units\":\"screen\",\"fill_alpha\":{\"value\":0.5},\"fill_color\":{\"value\":\"lightgrey\"},\"left_units\":\"screen\",\"level\":\"overlay\",\"line_alpha\":{\"value\":1.0},\"line_color\":{\"value\":\"black\"},\"line_dash\":[4,4],\"line_width\":{\"value\":2},\"plot\":null,\"render_mode\":\"css\",\"right_units\":\"screen\",\"top_units\":\"screen\"},\"id\":\"7900bec0-f83f-41ec-b393-1dda035b47bd\",\"type\":\"BoxAnnotation\"},{\"attributes\":{},\"id\":\"f1aad558-032c-4033-9175-877921fa041c\",\"type\":\"PanTool\"},{\"attributes\":{\"source\":{\"id\":\"dccd6174-a7c8-42c6-a16f-2ba0c75ee577\",\"type\":\"ColumnDataSource\"}},\"id\":\"7e63e546-5a59-409b-8d1d-b00e0c9f006c\",\"type\":\"CDSView\"},{\"attributes\":{\"line_alpha\":{\"value\":0.1},\"line_color\":{\"value\":\"#1f77b4\"},\"line_width\":{\"value\":4},\"x\":{\"field\":\"x\"},\"y\":{\"field\":\"y\"}},\"id\":\"b3f4828f-8ed5-4293-8714-07e974e24d0b\",\"type\":\"Line\"},{\"attributes\":{},\"id\":\"e47a3871-7c64-43f7-b1d9-1351e3ef9d9d\",\"type\":\"WheelZoomTool\"},{\"attributes\":{\"overlay\":{\"id\":\"7900bec0-f83f-41ec-b393-1dda035b47bd\",\"type\":\"BoxAnnotation\"}},\"id\":\"4b150c5c-51fa-425e-badc-de8a79c3388e\",\"type\":\"BoxZoomTool\"},{\"attributes\":{},\"id\":\"4cbac570-b615-4838-94f7-ae8ca87d4880\",\"type\":\"SaveTool\"},{\"attributes\":{},\"id\":\"fb63610f-0abf-4bd4-8e3a-952fe52f0824\",\"type\":\"ResetTool\"},{\"attributes\":{},\"id\":\"7ad04bd0-bd86-4c7b-a1fa-5228932b9ec0\",\"type\":\"HelpTool\"},{\"attributes\":{\"source\":{\"id\":\"cf1e200f-80c4-41cf-bee9-fc583a977491\",\"type\":\"ColumnDataSource\"}},\"id\":\"e8b3e9d7-865a-4815-87bc-c5da94c3fba5\",\"type\":\"CDSView\"},{\"attributes\":{\"data_source\":{\"id\":\"cf1e200f-80c4-41cf-bee9-fc583a977491\",\"type\":\"ColumnDataSource\"},\"glyph\":{\"id\":\"0b369960-9c62-4a47-bf1e-bb6f0a319e92\",\"type\":\"Line\"},\"hover_glyph\":null,\"muted_glyph\":null,\"nonselection_glyph\":{\"id\":\"b3f4828f-8ed5-4293-8714-07e974e24d0b\",\"type\":\"Line\"},\"selection_glyph\":null,\"view\":{\"id\":\"e8b3e9d7-865a-4815-87bc-c5da94c3fba5\",\"type\":\"CDSView\"}},\"id\":\"bf0f7ef4-3307-455c-bd73-f3c92caae881\",\"type\":\"GlyphRenderer\"},{\"attributes\":{\"plot\":null,\"text\":\"\"},\"id\":\"5ef652d6-be39-468d-9bc5-6e89500b872b\",\"type\":\"Title\"},{\"attributes\":{},\"id\":\"2cac7ab8-c253-4695-b689-e1e1476d9064\",\"type\":\"BasicTickFormatter\"},{\"attributes\":{\"fill_color\":{\"value\":\"#1f77b4\"},\"line_color\":{\"value\":\"#1f77b4\"},\"size\":{\"units\":\"screen\",\"value\":5},\"x\":{\"field\":\"x\"},\"y\":{\"field\":\"y\"}},\"id\":\"e7b375c1-5235-4902-893b-e88a5c9df4ed\",\"type\":\"Circle\"},{\"attributes\":{\"below\":[{\"id\":\"3099eda1-d083-414d-85e8-a0c1d5a99b24\",\"type\":\"LinearAxis\"}],\"left\":[{\"id\":\"bd6cf661-3bd0-4816-9871-640a0ebb61c0\",\"type\":\"LinearAxis\"}],\"plot_height\":300,\"plot_width\":300,\"renderers\":[{\"id\":\"3099eda1-d083-414d-85e8-a0c1d5a99b24\",\"type\":\"LinearAxis\"},{\"id\":\"dd625e05-f492-4138-9e2e-5cccf7d2ca70\",\"type\":\"Grid\"},{\"id\":\"bd6cf661-3bd0-4816-9871-640a0ebb61c0\",\"type\":\"LinearAxis\"},{\"id\":\"f4be2ce2-da9e-4f95-a1e9-dc174bae9ca9\",\"type\":\"Grid\"},{\"id\":\"7900bec0-f83f-41ec-b393-1dda035b47bd\",\"type\":\"BoxAnnotation\"},{\"id\":\"3fdef051-b01b-4ece-b68c-9aa4b8d1d615\",\"type\":\"GlyphRenderer\"},{\"id\":\"bf0f7ef4-3307-455c-bd73-f3c92caae881\",\"type\":\"GlyphRenderer\"}],\"title\":{\"id\":\"5ef652d6-be39-468d-9bc5-6e89500b872b\",\"type\":\"Title\"},\"toolbar\":{\"id\":\"01efc6f8-4f8e-41be-9da5-40f70eed9b6c\",\"type\":\"Toolbar\"},\"x_range\":{\"id\":\"77aba182-819a-4bf4-8487-ee88f4bd9f0e\",\"type\":\"DataRange1d\"},\"x_scale\":{\"id\":\"bf77c266-0f34-4f3c-a85b-7d614b5c9bf6\",\"type\":\"LinearScale\"},\"y_range\":{\"id\":\"cd7d3158-598b-4d3c-b8a6-377966d5f104\",\"type\":\"DataRange1d\"},\"y_scale\":{\"id\":\"a7303743-01dc-4fa6-9a48-d5ecd13e72e8\",\"type\":\"LinearScale\"}},\"id\":\"40563b29-746d-46c7-b573-2066bbcab415\",\"subtype\":\"Figure\",\"type\":\"Plot\"},{\"attributes\":{\"callback\":null,\"column_names\":[\"x\",\"y\"],\"data\":{\"x\":{\"__ndarray__\":\"AAAAAAAAJEDiF6wlfM0kQCf/grWEryVAChcv2wB9JkAmL9sAfUonQDEWspCFLChATS5etgH6KEAvRgrcfccpQEletgH6lCpAV0WNkQJ3K0A5XTm3fkQsQFJ15dz6ES1AYFy8bAP0LUB7dGiSf8EuQF2MFLj7ji9A0bn1I4I4MEDCxcs2QJ8wQNDRoUn+BTFAV0WNkQJ3MUBjUWOkwN0xQFVdObd+RDJA29Ak/4K1MkDp3PoRQRwzQA==\",\"dtype\":\"float64\",\"shape\":[23]},\"y\":{\"__ndarray__\":\"3TSUqKmoOkCWc/yLck47QL29DKLlITZAMdLUqnorNUDeXTrcoGIuQDaiyKchZjpATbN+QHBvMUADPTfEBII5QCv6IGY6cUJAGFcrDUPVQ0DxfU9SuTJBQKCyjkC+v0RAiSzGPqR9RkCivBh1EYVHQM8DRHxUIEhAJ/IKWWKETEBVgtBw1r5JQNmQ3GEWq05AkWOyln7KTEANS+wMcCNRQMm2PjPmE1BAR5rFZWA9UUBW7fw/VqdSQA==\",\"dtype\":\"float64\",\"shape\":[23]}}},\"id\":\"dccd6174-a7c8-42c6-a16f-2ba0c75ee577\",\"type\":\"ColumnDataSource\"},{\"attributes\":{\"callback\":null,\"column_names\":[\"x\",\"y\"],\"data\":{\"x\":{\"__ndarray__\":\"AAAAAAAAAAB/pUCtXynQP3+lQK1fKeA/Pvjggw8+6D9/pUCtXynwP9/OkJi3M/Q/Pvjggw8++D+eITFvZ0j8P3+lQK1fKQBAL7rooosuAkDfzpCYtzMEQI/jOI7jOAZAPvjggw8+CEDuDIl5O0MKQJ4hMW9nSAxATjbZZJNNDkB/pUCtXykQQNevFKj1KxFAL7rooosuEkCHxLydITETQN/OkJi3MxRAN9lkk002FUCP4ziO4zgWQOftDIl5OxdAPvjggw8+GECWArV+pUAZQO4MiXk7QxpARhdddNFFG0CeITFvZ0gcQPYrBWr9Sh1ATjbZZJNNHkCmQK1fKVAfQH+lQK1fKSBAq6qqqqqqIEDXrxSo9SshQAO1fqVArSFAL7rooosuIkBbv1Kg1q8iQIfEvJ0hMSNAs8kmm2yyI0DfzpCYtzMkQAvU+pUCtSRAN9lkk002JUBj3s6QmLclQI/jOI7jOCZAu+iiiy66JkDn7QyJeTsnQBPzdobEvCdAPvjggw8+KEBq/UqBWr8oQJYCtX6lQClAwgcffPDBKUDuDIl5O0MqQBoS83aGxCpARhdddNFFK0ByHMdxHMcrQJ4hMW9nSCxAyiabbLLJLED2KwVq/UotQCIxb2dIzC1ATjbZZJNNLkB6O0Ni3s4uQKZArV8pUC9A0kUXXXTRL0B/pUCtXykwQBWo9SsFajBAq6qqqqqqMEBBrV8pUOswQNevFKj1KzFAbbLJJptsMUADtX6lQK0xQJm3MyTm7TFAL7rooosuMkDFvJ0hMW8yQFu/UqDWrzJA8cEHH3zwMkCHxLydITEzQB3HcRzHcTNAs8kmm2yyM0BJzNsZEvMzQN/OkJi3MzRAddFFF110NEAL1PqVArU0QKHWrxSo9TRAN9lkk002NUDN2xkS83Y1QGPezpCYtzVA+eCDDz74NUCP4ziO4zg2QCXm7QyJeTZAu+iiiy66NkBR61cK1Po2QOftDIl5OzdAffDBBx98N0AT83aGxLw3QKn1KwVq/TdAPvjggw8+OEDU+pUCtX44QGr9SoFavzhAAAAAAAAAOUA=\",\"dtype\":\"float64\",\"shape\":[100]},\"y\":{\"__ndarray__\":\"AAAAAAAAAAAAAAAAAAAAAAAAAAAAAAAAAAAAAAAAAAAAAAAAAAAAAAAAAAAAAAAAAAAAAAAAAAAAAAAAAAAAAAAAAAAAAAAAAAAAAAAAAAAAAAAAAAAAAAAAAAAAAAAAAAAAAAAAAAAAAAAAAAAAAAAAAAAAAAAAAAAAAAAAAAAAAAAAAAAAAAAAAAAAAAAAAAAAAAAAAAAAAAAAAAAAAAAAAAAAAAAAAAAAAAAAAAAAAAAAAAAAAAAAAAAAAAAAAAAAAAAAAAAAAAAAAAAAAAAAAAAAAAAAAAAAAAAAAAAAAAAAAAAAAAAAAAAAAAAAAAAAAAAAAAAAAAAAAAAAAAAAAAAAAAAAAAAAAAAAAAAAAAAAAAAAAAAAAAAAAAAAAAAAAAAAAAAAAAAAAAAAAAAAAAAAAAAAAAAAAAAAAAAAAAAAAAAAAAAAAAAAAAAAAAAAAAAAAAAAAAAAAAAAAAAAAAAAAAAAAAAAAAAAAAAAAAAAAAAAAAAAAAAAAAAAAAAAAAAAAAAAAAAAAAAAAAAAAAAAAAAAAAAAAAAAAAAAAAAAAAAAAAAAAAAAAAAAAAAAAAAAAAAAAAAAAAAAAAAAAAAAAAAAAAAAAAAAAAAAAAAAAAAAAAAAAAAAAAAAAAAAAAAAAAAAAAAAAAAAAAAAAAAAAAAAAAAAAAAAAAAAAAAAAAAAAAAAAAAAAAAAAAAAAAAAAAAAAAAAAAAAAAAAAAAAAAAAAAAAAAAAAAAAAAAAAAAAAAAAAAAAAAAAAAAAAAAAAAAAAAAAAAAAAAAAAAAAAAAAAAAAAAAAAAAAAAAAAAAAAAAAAAAAAAAAAAAAAAAAAAAAAAAAAAAAAAAAAAAAAAAAAAAAAAAAAAAAAAAAAAAAAAAAAAAAAAAAAAAAAAAAAAAAAAAAAAAAAAAAAAAAAAAAAAAAAAAAAAAAAAAAAAAAAAAAAAAAAAAAAAAAAAAAAAAAAAAAAAAAAAAAAAAAAAAAAAAAAAAAAAAAAAAAAAAAAAAAAAAAAAAAAAAAAAAAAAAAAAAAAAAAAAAAAAAAAAAAAAAAAAAAAAA=\",\"dtype\":\"float64\",\"shape\":[100]}}},\"id\":\"cf1e200f-80c4-41cf-bee9-fc583a977491\",\"type\":\"ColumnDataSource\"},{\"attributes\":{\"active_drag\":\"auto\",\"active_inspect\":\"auto\",\"active_scroll\":\"auto\",\"active_tap\":\"auto\",\"tools\":[{\"id\":\"f1aad558-032c-4033-9175-877921fa041c\",\"type\":\"PanTool\"},{\"id\":\"e47a3871-7c64-43f7-b1d9-1351e3ef9d9d\",\"type\":\"WheelZoomTool\"},{\"id\":\"4b150c5c-51fa-425e-badc-de8a79c3388e\",\"type\":\"BoxZoomTool\"},{\"id\":\"4cbac570-b615-4838-94f7-ae8ca87d4880\",\"type\":\"SaveTool\"},{\"id\":\"fb63610f-0abf-4bd4-8e3a-952fe52f0824\",\"type\":\"ResetTool\"},{\"id\":\"7ad04bd0-bd86-4c7b-a1fa-5228932b9ec0\",\"type\":\"HelpTool\"}]},\"id\":\"01efc6f8-4f8e-41be-9da5-40f70eed9b6c\",\"type\":\"Toolbar\"},{\"attributes\":{\"line_alpha\":{\"value\":0.5},\"line_color\":{\"value\":\"red\"},\"line_width\":{\"value\":4},\"x\":{\"field\":\"x\"},\"y\":{\"field\":\"y\"}},\"id\":\"0b369960-9c62-4a47-bf1e-bb6f0a319e92\",\"type\":\"Line\"},{\"attributes\":{\"callback\":null},\"id\":\"77aba182-819a-4bf4-8487-ee88f4bd9f0e\",\"type\":\"DataRange1d\"},{\"attributes\":{\"plot\":{\"id\":\"40563b29-746d-46c7-b573-2066bbcab415\",\"subtype\":\"Figure\",\"type\":\"Plot\"},\"ticker\":{\"id\":\"0efa33ab-9632-471f-aeab-7af72c74f43a\",\"type\":\"BasicTicker\"}},\"id\":\"dd625e05-f492-4138-9e2e-5cccf7d2ca70\",\"type\":\"Grid\"},{\"attributes\":{\"callback\":null},\"id\":\"cd7d3158-598b-4d3c-b8a6-377966d5f104\",\"type\":\"DataRange1d\"},{\"attributes\":{},\"id\":\"bf77c266-0f34-4f3c-a85b-7d614b5c9bf6\",\"type\":\"LinearScale\"},{\"attributes\":{},\"id\":\"a7303743-01dc-4fa6-9a48-d5ecd13e72e8\",\"type\":\"LinearScale\"},{\"attributes\":{},\"id\":\"0efa33ab-9632-471f-aeab-7af72c74f43a\",\"type\":\"BasicTicker\"},{\"attributes\":{\"axis_label\":\"Education\",\"formatter\":{\"id\":\"2cac7ab8-c253-4695-b689-e1e1476d9064\",\"type\":\"BasicTickFormatter\"},\"plot\":{\"id\":\"40563b29-746d-46c7-b573-2066bbcab415\",\"subtype\":\"Figure\",\"type\":\"Plot\"},\"ticker\":{\"id\":\"0efa33ab-9632-471f-aeab-7af72c74f43a\",\"type\":\"BasicTicker\"}},\"id\":\"3099eda1-d083-414d-85e8-a0c1d5a99b24\",\"type\":\"LinearAxis\"}],\"root_ids\":[\"40563b29-746d-46c7-b573-2066bbcab415\"]},\"title\":\"Bokeh Application\",\"version\":\"0.12.10\"}};\n",
       "    var render_items = [{\"docid\":\"a0e63d24-30dc-4851-a8ca-08f316c77b72\",\"elementid\":\"4637cabe-4f08-453d-9834-0ba459fccdc6\",\"modelid\":\"40563b29-746d-46c7-b573-2066bbcab415\"}];\n",
       "\n",
       "    root.Bokeh.embed.embed_items(docs_json, render_items);\n",
       "  }\n",
       "\n",
       "  if (root.Bokeh !== undefined) {\n",
       "    embed_document(root);\n",
       "  } else {\n",
       "    var attempts = 0;\n",
       "    var timer = setInterval(function(root) {\n",
       "      if (root.Bokeh !== undefined) {\n",
       "        embed_document(root);\n",
       "        clearInterval(timer);\n",
       "      }\n",
       "      attempts++;\n",
       "      if (attempts > 100) {\n",
       "        console.log(\"Bokeh: ERROR: Unable to embed document because BokehJS library is missing\")\n",
       "        clearInterval(timer);\n",
       "      }\n",
       "    }, 10, root)\n",
       "  }\n",
       "})(window);"
      ],
      "application/vnd.bokehjs_exec.v0+json": ""
     },
     "metadata": {
      "application/vnd.bokehjs_exec.v0+json": {
       "id": "40563b29-746d-46c7-b573-2066bbcab415"
      }
     },
     "output_type": "display_data"
    }
   ],
   "source": [
    "plot = figure(plot_width=300, plot_height=300, x_axis_label='Education', y_axis_label='Income')\n",
    "plot.scatter(x=x_train_education, y=y_train_income, size=5)\n",
    "plot.line(x=np.linspace(0,25,100), y=model(np.linspace(0,25,100), w), line_width=4, color='red', alpha=0.5)\n",
    "show(plot)"
   ]
  },
  {
   "cell_type": "code",
   "execution_count": 92,
   "metadata": {
    "collapsed": true
   },
   "outputs": [],
   "source": [
    "for i in range(20000):\n",
    "    w = w - (0.001 * model_grad(w))"
   ]
  },
  {
   "cell_type": "code",
   "execution_count": 96,
   "metadata": {},
   "outputs": [
    {
     "data": {
      "text/html": [
       "\n",
       "<div class=\"bk-root\">\n",
       "    <div class=\"bk-plotdiv\" id=\"ba89d78e-fc3e-419d-b17f-427fd23e1e9e\"></div>\n",
       "</div>"
      ]
     },
     "metadata": {},
     "output_type": "display_data"
    },
    {
     "data": {
      "application/javascript": [
       "(function(root) {\n",
       "  function embed_document(root) {\n",
       "    var docs_json = {\"a39edaf4-c942-4d55-8571-3be298c0aebf\":{\"roots\":{\"references\":[{\"attributes\":{\"bottom_units\":\"screen\",\"fill_alpha\":{\"value\":0.5},\"fill_color\":{\"value\":\"lightgrey\"},\"left_units\":\"screen\",\"level\":\"overlay\",\"line_alpha\":{\"value\":1.0},\"line_color\":{\"value\":\"black\"},\"line_dash\":[4,4],\"line_width\":{\"value\":2},\"plot\":null,\"render_mode\":\"css\",\"right_units\":\"screen\",\"top_units\":\"screen\"},\"id\":\"6a8535e3-f163-4e39-8045-a83bf08ce1b6\",\"type\":\"BoxAnnotation\"},{\"attributes\":{},\"id\":\"6deb8d23-df5e-481f-b62f-93de468e66b5\",\"type\":\"WheelZoomTool\"},{\"attributes\":{},\"id\":\"b6e1ca7e-9405-4595-8592-d06268828280\",\"type\":\"ResetTool\"},{\"attributes\":{\"axis_label\":\"Education\",\"formatter\":{\"id\":\"a78ded3d-8b4d-4f5f-80c5-f640822ebf2b\",\"type\":\"BasicTickFormatter\"},\"plot\":{\"id\":\"ec510648-9741-49b1-9b66-cdad9f7f511e\",\"subtype\":\"Figure\",\"type\":\"Plot\"},\"ticker\":{\"id\":\"8044955f-0c27-42f1-a7e3-066159930e68\",\"type\":\"BasicTicker\"}},\"id\":\"26f9637d-9235-49c6-9a41-f35286d660bb\",\"type\":\"LinearAxis\"},{\"attributes\":{\"callback\":null,\"column_names\":[\"x\",\"y\"],\"data\":{\"x\":{\"__ndarray__\":\"AAAAAAAAJEDiF6wlfM0kQCf/grWEryVAChcv2wB9JkAmL9sAfUonQDEWspCFLChATS5etgH6KEAvRgrcfccpQEletgH6lCpAV0WNkQJ3K0A5XTm3fkQsQFJ15dz6ES1AYFy8bAP0LUB7dGiSf8EuQF2MFLj7ji9A0bn1I4I4MEDCxcs2QJ8wQNDRoUn+BTFAV0WNkQJ3MUBjUWOkwN0xQFVdObd+RDJA29Ak/4K1MkDp3PoRQRwzQA==\",\"dtype\":\"float64\",\"shape\":[23]},\"y\":{\"__ndarray__\":\"3TSUqKmoOkCWc/yLck47QL29DKLlITZAMdLUqnorNUDeXTrcoGIuQDaiyKchZjpATbN+QHBvMUADPTfEBII5QCv6IGY6cUJAGFcrDUPVQ0DxfU9SuTJBQKCyjkC+v0RAiSzGPqR9RkCivBh1EYVHQM8DRHxUIEhAJ/IKWWKETEBVgtBw1r5JQNmQ3GEWq05AkWOyln7KTEANS+wMcCNRQMm2PjPmE1BAR5rFZWA9UUBW7fw/VqdSQA==\",\"dtype\":\"float64\",\"shape\":[23]}}},\"id\":\"a19392de-3e5e-430b-91cf-7148bb03dfa4\",\"type\":\"ColumnDataSource\"},{\"attributes\":{\"source\":{\"id\":\"ad271247-3965-4202-8ae5-f8302419a23a\",\"type\":\"ColumnDataSource\"}},\"id\":\"873e2018-1e9f-47c0-bb69-e76878f43a7a\",\"type\":\"CDSView\"},{\"attributes\":{\"below\":[{\"id\":\"26f9637d-9235-49c6-9a41-f35286d660bb\",\"type\":\"LinearAxis\"}],\"left\":[{\"id\":\"5354a2e0-4a28-428a-8027-6b605fae8ae2\",\"type\":\"LinearAxis\"}],\"plot_height\":300,\"plot_width\":300,\"renderers\":[{\"id\":\"26f9637d-9235-49c6-9a41-f35286d660bb\",\"type\":\"LinearAxis\"},{\"id\":\"983852f2-30ac-4667-8e33-81eb0fe1d558\",\"type\":\"Grid\"},{\"id\":\"5354a2e0-4a28-428a-8027-6b605fae8ae2\",\"type\":\"LinearAxis\"},{\"id\":\"fbc577cd-c736-4dcd-913e-eefa71b8bb92\",\"type\":\"Grid\"},{\"id\":\"6a8535e3-f163-4e39-8045-a83bf08ce1b6\",\"type\":\"BoxAnnotation\"},{\"id\":\"67378d97-6d1c-4541-8d39-f0560ca13ce4\",\"type\":\"GlyphRenderer\"},{\"id\":\"dd240be5-7087-4fab-b93d-7ca736719ce7\",\"type\":\"GlyphRenderer\"}],\"title\":{\"id\":\"eb557707-6554-4192-bfee-c98cfbd844f3\",\"type\":\"Title\"},\"toolbar\":{\"id\":\"80b38ed0-bad6-4ed8-a3cf-25cf1aa554b7\",\"type\":\"Toolbar\"},\"x_range\":{\"id\":\"343b6514-c5e2-45dd-b4fe-d6d4d255edf8\",\"type\":\"DataRange1d\"},\"x_scale\":{\"id\":\"7400f04d-7cb1-4127-960e-6b0da642a014\",\"type\":\"LinearScale\"},\"y_range\":{\"id\":\"c64a3e90-a337-4886-acc1-2745ae5c3164\",\"type\":\"DataRange1d\"},\"y_scale\":{\"id\":\"b7e5c615-05b1-454a-9600-7fa8a55c0132\",\"type\":\"LinearScale\"}},\"id\":\"ec510648-9741-49b1-9b66-cdad9f7f511e\",\"subtype\":\"Figure\",\"type\":\"Plot\"},{\"attributes\":{},\"id\":\"1aec024f-d40a-4344-bfac-4cec5f69bba3\",\"type\":\"BasicTickFormatter\"},{\"attributes\":{\"plot\":null,\"text\":\"\"},\"id\":\"eb557707-6554-4192-bfee-c98cfbd844f3\",\"type\":\"Title\"},{\"attributes\":{},\"id\":\"a78ded3d-8b4d-4f5f-80c5-f640822ebf2b\",\"type\":\"BasicTickFormatter\"},{\"attributes\":{},\"id\":\"28e9c969-ac01-406a-a3aa-552b977df9fa\",\"type\":\"HelpTool\"},{\"attributes\":{},\"id\":\"b7e5c615-05b1-454a-9600-7fa8a55c0132\",\"type\":\"LinearScale\"},{\"attributes\":{},\"id\":\"7400f04d-7cb1-4127-960e-6b0da642a014\",\"type\":\"LinearScale\"},{\"attributes\":{\"callback\":null},\"id\":\"c64a3e90-a337-4886-acc1-2745ae5c3164\",\"type\":\"DataRange1d\"},{\"attributes\":{\"overlay\":{\"id\":\"6a8535e3-f163-4e39-8045-a83bf08ce1b6\",\"type\":\"BoxAnnotation\"}},\"id\":\"14380fda-f985-426a-b00e-a840f1c6703a\",\"type\":\"BoxZoomTool\"},{\"attributes\":{\"fill_color\":{\"value\":\"#1f77b4\"},\"line_color\":{\"value\":\"#1f77b4\"},\"size\":{\"units\":\"screen\",\"value\":5},\"x\":{\"field\":\"x\"},\"y\":{\"field\":\"y\"}},\"id\":\"c7456b6b-516c-4b17-be3b-3579fa5871b4\",\"type\":\"Circle\"},{\"attributes\":{\"callback\":null},\"id\":\"343b6514-c5e2-45dd-b4fe-d6d4d255edf8\",\"type\":\"DataRange1d\"},{\"attributes\":{\"active_drag\":\"auto\",\"active_inspect\":\"auto\",\"active_scroll\":\"auto\",\"active_tap\":\"auto\",\"tools\":[{\"id\":\"9bd3ffba-85d3-4dac-a21c-423ad78118f9\",\"type\":\"PanTool\"},{\"id\":\"6deb8d23-df5e-481f-b62f-93de468e66b5\",\"type\":\"WheelZoomTool\"},{\"id\":\"14380fda-f985-426a-b00e-a840f1c6703a\",\"type\":\"BoxZoomTool\"},{\"id\":\"d2ddd19c-87ba-42cd-8b06-286414707104\",\"type\":\"SaveTool\"},{\"id\":\"b6e1ca7e-9405-4595-8592-d06268828280\",\"type\":\"ResetTool\"},{\"id\":\"28e9c969-ac01-406a-a3aa-552b977df9fa\",\"type\":\"HelpTool\"}]},\"id\":\"80b38ed0-bad6-4ed8-a3cf-25cf1aa554b7\",\"type\":\"Toolbar\"},{\"attributes\":{\"data_source\":{\"id\":\"ad271247-3965-4202-8ae5-f8302419a23a\",\"type\":\"ColumnDataSource\"},\"glyph\":{\"id\":\"a0923b38-244f-425e-9ee0-ed61d0ff6b26\",\"type\":\"Line\"},\"hover_glyph\":null,\"muted_glyph\":null,\"nonselection_glyph\":{\"id\":\"4652e6ae-b080-4b48-aba7-1512fe7af210\",\"type\":\"Line\"},\"selection_glyph\":null,\"view\":{\"id\":\"873e2018-1e9f-47c0-bb69-e76878f43a7a\",\"type\":\"CDSView\"}},\"id\":\"dd240be5-7087-4fab-b93d-7ca736719ce7\",\"type\":\"GlyphRenderer\"},{\"attributes\":{\"data_source\":{\"id\":\"a19392de-3e5e-430b-91cf-7148bb03dfa4\",\"type\":\"ColumnDataSource\"},\"glyph\":{\"id\":\"c7456b6b-516c-4b17-be3b-3579fa5871b4\",\"type\":\"Circle\"},\"hover_glyph\":null,\"muted_glyph\":null,\"nonselection_glyph\":{\"id\":\"d44a6a8f-8cc3-4afa-b051-affcfe1feb84\",\"type\":\"Circle\"},\"selection_glyph\":null,\"view\":{\"id\":\"4d292cee-ebe9-4ab3-a7ef-b61946bf5b95\",\"type\":\"CDSView\"}},\"id\":\"67378d97-6d1c-4541-8d39-f0560ca13ce4\",\"type\":\"GlyphRenderer\"},{\"attributes\":{},\"id\":\"8044955f-0c27-42f1-a7e3-066159930e68\",\"type\":\"BasicTicker\"},{\"attributes\":{\"plot\":{\"id\":\"ec510648-9741-49b1-9b66-cdad9f7f511e\",\"subtype\":\"Figure\",\"type\":\"Plot\"},\"ticker\":{\"id\":\"8044955f-0c27-42f1-a7e3-066159930e68\",\"type\":\"BasicTicker\"}},\"id\":\"983852f2-30ac-4667-8e33-81eb0fe1d558\",\"type\":\"Grid\"},{\"attributes\":{\"axis_label\":\"Income\",\"formatter\":{\"id\":\"1aec024f-d40a-4344-bfac-4cec5f69bba3\",\"type\":\"BasicTickFormatter\"},\"plot\":{\"id\":\"ec510648-9741-49b1-9b66-cdad9f7f511e\",\"subtype\":\"Figure\",\"type\":\"Plot\"},\"ticker\":{\"id\":\"611b18d2-1606-4411-b0bb-7037b138dafa\",\"type\":\"BasicTicker\"}},\"id\":\"5354a2e0-4a28-428a-8027-6b605fae8ae2\",\"type\":\"LinearAxis\"},{\"attributes\":{\"dimension\":1,\"plot\":{\"id\":\"ec510648-9741-49b1-9b66-cdad9f7f511e\",\"subtype\":\"Figure\",\"type\":\"Plot\"},\"ticker\":{\"id\":\"611b18d2-1606-4411-b0bb-7037b138dafa\",\"type\":\"BasicTicker\"}},\"id\":\"fbc577cd-c736-4dcd-913e-eefa71b8bb92\",\"type\":\"Grid\"},{\"attributes\":{\"fill_alpha\":{\"value\":0.1},\"fill_color\":{\"value\":\"#1f77b4\"},\"line_alpha\":{\"value\":0.1},\"line_color\":{\"value\":\"#1f77b4\"},\"size\":{\"units\":\"screen\",\"value\":5},\"x\":{\"field\":\"x\"},\"y\":{\"field\":\"y\"}},\"id\":\"d44a6a8f-8cc3-4afa-b051-affcfe1feb84\",\"type\":\"Circle\"},{\"attributes\":{},\"id\":\"611b18d2-1606-4411-b0bb-7037b138dafa\",\"type\":\"BasicTicker\"},{\"attributes\":{\"line_alpha\":{\"value\":0.1},\"line_color\":{\"value\":\"#1f77b4\"},\"line_width\":{\"value\":5},\"x\":{\"field\":\"x\"},\"y\":{\"field\":\"y\"}},\"id\":\"4652e6ae-b080-4b48-aba7-1512fe7af210\",\"type\":\"Line\"},{\"attributes\":{},\"id\":\"9bd3ffba-85d3-4dac-a21c-423ad78118f9\",\"type\":\"PanTool\"},{\"attributes\":{\"source\":{\"id\":\"a19392de-3e5e-430b-91cf-7148bb03dfa4\",\"type\":\"ColumnDataSource\"}},\"id\":\"4d292cee-ebe9-4ab3-a7ef-b61946bf5b95\",\"type\":\"CDSView\"},{\"attributes\":{},\"id\":\"d2ddd19c-87ba-42cd-8b06-286414707104\",\"type\":\"SaveTool\"},{\"attributes\":{\"callback\":null,\"column_names\":[\"x\",\"y\"],\"data\":{\"x\":{\"__ndarray__\":\"AAAAAAAAAAB/pUCtXynQP3+lQK1fKeA/Pvjggw8+6D9/pUCtXynwP9/OkJi3M/Q/Pvjggw8++D+eITFvZ0j8P3+lQK1fKQBAL7rooosuAkDfzpCYtzMEQI/jOI7jOAZAPvjggw8+CEDuDIl5O0MKQJ4hMW9nSAxATjbZZJNNDkB/pUCtXykQQNevFKj1KxFAL7rooosuEkCHxLydITETQN/OkJi3MxRAN9lkk002FUCP4ziO4zgWQOftDIl5OxdAPvjggw8+GECWArV+pUAZQO4MiXk7QxpARhdddNFFG0CeITFvZ0gcQPYrBWr9Sh1ATjbZZJNNHkCmQK1fKVAfQH+lQK1fKSBAq6qqqqqqIEDXrxSo9SshQAO1fqVArSFAL7rooosuIkBbv1Kg1q8iQIfEvJ0hMSNAs8kmm2yyI0DfzpCYtzMkQAvU+pUCtSRAN9lkk002JUBj3s6QmLclQI/jOI7jOCZAu+iiiy66JkDn7QyJeTsnQBPzdobEvCdAPvjggw8+KEBq/UqBWr8oQJYCtX6lQClAwgcffPDBKUDuDIl5O0MqQBoS83aGxCpARhdddNFFK0ByHMdxHMcrQJ4hMW9nSCxAyiabbLLJLED2KwVq/UotQCIxb2dIzC1ATjbZZJNNLkB6O0Ni3s4uQKZArV8pUC9A0kUXXXTRL0B/pUCtXykwQBWo9SsFajBAq6qqqqqqMEBBrV8pUOswQNevFKj1KzFAbbLJJptsMUADtX6lQK0xQJm3MyTm7TFAL7rooosuMkDFvJ0hMW8yQFu/UqDWrzJA8cEHH3zwMkCHxLydITEzQB3HcRzHcTNAs8kmm2yyM0BJzNsZEvMzQN/OkJi3MzRAddFFF110NEAL1PqVArU0QKHWrxSo9TRAN9lkk002NUDN2xkS83Y1QGPezpCYtzVA+eCDDz74NUCP4ziO4zg2QCXm7QyJeTZAu+iiiy66NkBR61cK1Po2QOftDIl5OzdAffDBBx98N0AT83aGxLw3QKn1KwVq/TdAPvjggw8+OEDU+pUCtX44QGr9SoFavzhAAAAAAAAAOUA=\",\"dtype\":\"float64\",\"shape\":[100]},\"y\":{\"__ndarray__\":\"hiYxCKycQ8C/v/PpWuZCwPlYtssJMELAMvJ4rbh5QcBsizuPZ8NAwKUk/nAWDUDAvXuBpYqtPsAwrgZp6EA9wKLgiyxG1DvAFhMR8KNnOsCIRZazAfs4wPt3G3dfjjfAbqqgOr0hNsDh3CX+GrU0wFQPq8F4SDPAx0EwhdbbMcA5dLVING8wwFhNdRgkBS7APrJ/n98rK8AkF4omm1IowAh8lK1WeSXA7uCeNBKgIsCoi1J3m40fwHBVZ4US2xnAQB98k4koFMAg0iFDAewMwLBlS1/vhgHAAOXT7XWH6L+AzIWh0QzlP5DfN0xGqABA8EsOMFgNDEAwXPIJNbkTQGiS3fu9axlAmMjI7UYeH0Bo/9nvZ2giQISaz2isQSVAnDXF4fAaKEC40LpaNfQqQNBrsNN5zS1AdgNTJl9TMEAE0c1iAcAxQJCeSJ+jLDNAHmzD20WZNECsOT4Y6AU2QDgHuVSKcjdAxNQzkSzfOEBUoq7Nzks6QOBvKQpxuDtAbD2kRhMlPUD4Ch+DtZE+QITYmb9X/j9AClMK/ny1QEDQuUcczmtBQJYghTofIkJAXofCWHDYQkAk7v92wY5DQOpUPZUSRURAsLt6s2P7REB4IrjRtLFFQD6J9e8FaEZABPAyDlceR0DMVnAsqNRHQJK9rUr5ikhAWCTraEpBSUAgiyiHm/dJQObxZaXsrUpArFijwz1kS0B0v+DhjhpMQDomHgDg0ExAAI1bHjGHTUDI85g8gj1OQI5a1lrT805AVMETeSSqT0AOlKjLOjBQQHFHx1pji1BA1Prl6YvmUEA3rgR5tEFRQJthIwjdnFFA/hRClwX4UUBhyGAmLlNSQMV7f7VWrlJAKC+eRH8JU0CL4rzTp2RTQO+V22LQv1NAUkn68fgaVEC1/BiBIXZUQBmwNxBK0VRAfGNWn3IsVUDfFnUum4dVQEPKk73D4lVApX2yTOw9VkAJMdHbFJlWQG3k72o99FZAz5cO+mVPV0AzSy2JjqpXQJf+Sxi3BVhA+bFqp99gWEBbZYk2CLxYQL8YqMUwF1lAI8zGVFlyWUA=\",\"dtype\":\"float64\",\"shape\":[100]}}},\"id\":\"ad271247-3965-4202-8ae5-f8302419a23a\",\"type\":\"ColumnDataSource\"},{\"attributes\":{\"line_alpha\":{\"value\":0.5},\"line_color\":{\"value\":\"red\"},\"line_width\":{\"value\":5},\"x\":{\"field\":\"x\"},\"y\":{\"field\":\"y\"}},\"id\":\"a0923b38-244f-425e-9ee0-ed61d0ff6b26\",\"type\":\"Line\"}],\"root_ids\":[\"ec510648-9741-49b1-9b66-cdad9f7f511e\"]},\"title\":\"Bokeh Application\",\"version\":\"0.12.10\"}};\n",
       "    var render_items = [{\"docid\":\"a39edaf4-c942-4d55-8571-3be298c0aebf\",\"elementid\":\"ba89d78e-fc3e-419d-b17f-427fd23e1e9e\",\"modelid\":\"ec510648-9741-49b1-9b66-cdad9f7f511e\"}];\n",
       "\n",
       "    root.Bokeh.embed.embed_items(docs_json, render_items);\n",
       "  }\n",
       "\n",
       "  if (root.Bokeh !== undefined) {\n",
       "    embed_document(root);\n",
       "  } else {\n",
       "    var attempts = 0;\n",
       "    var timer = setInterval(function(root) {\n",
       "      if (root.Bokeh !== undefined) {\n",
       "        embed_document(root);\n",
       "        clearInterval(timer);\n",
       "      }\n",
       "      attempts++;\n",
       "      if (attempts > 100) {\n",
       "        console.log(\"Bokeh: ERROR: Unable to embed document because BokehJS library is missing\")\n",
       "        clearInterval(timer);\n",
       "      }\n",
       "    }, 10, root)\n",
       "  }\n",
       "})(window);"
      ],
      "application/vnd.bokehjs_exec.v0+json": ""
     },
     "metadata": {
      "application/vnd.bokehjs_exec.v0+json": {
       "id": "ec510648-9741-49b1-9b66-cdad9f7f511e"
      }
     },
     "output_type": "display_data"
    }
   ],
   "source": [
    "plot = figure(plot_width=300, plot_height=300, x_axis_label='Education', y_axis_label='Income')\n",
    "plot.scatter(x=x_train_education, y=y_train_income, size=5)\n",
    "plot.line(x=np.linspace(0,25,100), y=model(np.linspace(0,25,100), w), line_width=5, color='red', alpha=0.5)\n",
    "show(plot)"
   ]
  },
  {
   "cell_type": "code",
   "execution_count": 94,
   "metadata": {},
   "outputs": [
    {
     "data": {
      "text/plain": [
       "array([-39.224     ,   5.64042809])"
      ]
     },
     "execution_count": 94,
     "metadata": {},
     "output_type": "execute_result"
    }
   ],
   "source": [
    "w"
   ]
  },
  {
   "cell_type": "code",
   "execution_count": 95,
   "metadata": {},
   "outputs": [
    {
     "data": {
      "text/plain": [
       "98.604668145659545"
      ]
     },
     "execution_count": 95,
     "metadata": {},
     "output_type": "execute_result"
    }
   ],
   "source": [
    "loss(w)"
   ]
  },
  {
   "cell_type": "code",
   "execution_count": null,
   "metadata": {
    "collapsed": true
   },
   "outputs": [],
   "source": []
  },
  {
   "cell_type": "code",
   "execution_count": null,
   "metadata": {},
   "outputs": [],
   "source": []
  },
  {
   "cell_type": "code",
   "execution_count": 57,
   "metadata": {},
   "outputs": [
    {
     "data": {
      "text/html": [
       "\n",
       "<div class=\"bk-root\">\n",
       "    <div class=\"bk-plotdiv\" id=\"2a16f0c4-7e34-44cc-9362-8ca297c18c50\"></div>\n",
       "</div>"
      ]
     },
     "metadata": {},
     "output_type": "display_data"
    },
    {
     "data": {
      "application/javascript": [
       "(function(root) {\n",
       "  function embed_document(root) {\n",
       "    var docs_json = {\"120424ab-7c78-4c1d-b8e1-4439ac0c0f2f\":{\"roots\":{\"references\":[{\"attributes\":{\"source\":{\"id\":\"e29ec66f-3f6f-4454-bd34-0344ef97372c\",\"type\":\"ColumnDataSource\"}},\"id\":\"fbeedafe-5681-4422-a2e9-faded086fbca\",\"type\":\"CDSView\"},{\"attributes\":{},\"id\":\"5aed310e-387c-4de7-9235-54c816053f82\",\"type\":\"BasicTicker\"},{\"attributes\":{},\"id\":\"9baffb9e-1bf0-4869-8758-6db91ed317cc\",\"type\":\"PanTool\"},{\"attributes\":{\"data_source\":{\"id\":\"e29ec66f-3f6f-4454-bd34-0344ef97372c\",\"type\":\"ColumnDataSource\"},\"glyph\":{\"id\":\"930919b2-f9bb-4d70-acd1-4ea74be27506\",\"type\":\"Circle\"},\"hover_glyph\":null,\"muted_glyph\":null,\"nonselection_glyph\":{\"id\":\"b0c1361e-c299-4b80-b520-275987ccc379\",\"type\":\"Circle\"},\"selection_glyph\":null,\"view\":{\"id\":\"fbeedafe-5681-4422-a2e9-faded086fbca\",\"type\":\"CDSView\"}},\"id\":\"1eb05b6b-c2ab-42ec-982d-5106de1698f6\",\"type\":\"GlyphRenderer\"},{\"attributes\":{},\"id\":\"23da28d3-cf5e-40d6-b8f5-eece1036e7f0\",\"type\":\"BasicTickFormatter\"},{\"attributes\":{},\"id\":\"96ca5dbb-732d-49ad-894a-2dd4cbc0bd13\",\"type\":\"WheelZoomTool\"},{\"attributes\":{},\"id\":\"35e94045-9e57-4b2f-88fd-a60ebe73a76d\",\"type\":\"BasicTickFormatter\"},{\"attributes\":{\"axis_label\":\"Income\",\"formatter\":{\"id\":\"23da28d3-cf5e-40d6-b8f5-eece1036e7f0\",\"type\":\"BasicTickFormatter\"},\"plot\":{\"id\":\"6f61615f-2ad9-423b-8a09-d704668da9a4\",\"subtype\":\"Figure\",\"type\":\"Plot\"},\"ticker\":{\"id\":\"5aed310e-387c-4de7-9235-54c816053f82\",\"type\":\"BasicTicker\"}},\"id\":\"48f490b8-153b-40b9-8928-c96a6cd0cae5\",\"type\":\"LinearAxis\"},{\"attributes\":{},\"id\":\"8583cd62-7827-4682-a74e-37d345676ff3\",\"type\":\"LinearScale\"},{\"attributes\":{\"axis_label\":\"Education\",\"formatter\":{\"id\":\"35e94045-9e57-4b2f-88fd-a60ebe73a76d\",\"type\":\"BasicTickFormatter\"},\"plot\":{\"id\":\"6f61615f-2ad9-423b-8a09-d704668da9a4\",\"subtype\":\"Figure\",\"type\":\"Plot\"},\"ticker\":{\"id\":\"013234cf-ff43-41fa-a1f9-402020c61e27\",\"type\":\"BasicTicker\"}},\"id\":\"038d7214-8f43-46d2-a26b-21412494aaf9\",\"type\":\"LinearAxis\"},{\"attributes\":{\"plot\":{\"id\":\"6f61615f-2ad9-423b-8a09-d704668da9a4\",\"subtype\":\"Figure\",\"type\":\"Plot\"},\"ticker\":{\"id\":\"013234cf-ff43-41fa-a1f9-402020c61e27\",\"type\":\"BasicTicker\"}},\"id\":\"d1b5ee34-e017-4d41-9ddf-1a7da1feaaf5\",\"type\":\"Grid\"},{\"attributes\":{},\"id\":\"d6826dca-1e14-4b0b-a350-6e42f8a57003\",\"type\":\"LinearScale\"},{\"attributes\":{\"below\":[{\"id\":\"038d7214-8f43-46d2-a26b-21412494aaf9\",\"type\":\"LinearAxis\"}],\"left\":[{\"id\":\"48f490b8-153b-40b9-8928-c96a6cd0cae5\",\"type\":\"LinearAxis\"}],\"plot_height\":300,\"plot_width\":300,\"renderers\":[{\"id\":\"038d7214-8f43-46d2-a26b-21412494aaf9\",\"type\":\"LinearAxis\"},{\"id\":\"d1b5ee34-e017-4d41-9ddf-1a7da1feaaf5\",\"type\":\"Grid\"},{\"id\":\"48f490b8-153b-40b9-8928-c96a6cd0cae5\",\"type\":\"LinearAxis\"},{\"id\":\"ea34ace3-da15-4c26-a070-e8caecf4b465\",\"type\":\"Grid\"},{\"id\":\"e14f8fef-6a58-4060-8b4f-6feb373414ff\",\"type\":\"BoxAnnotation\"},{\"id\":\"1eb05b6b-c2ab-42ec-982d-5106de1698f6\",\"type\":\"GlyphRenderer\"}],\"title\":{\"id\":\"fc3a57fc-c2f5-4843-ba9c-5fec5ea31ddb\",\"type\":\"Title\"},\"toolbar\":{\"id\":\"1655c4dc-2a8e-45ea-a3c3-27a6e6e7e046\",\"type\":\"Toolbar\"},\"x_range\":{\"id\":\"11abe498-561d-4991-aefd-888a41f02829\",\"type\":\"DataRange1d\"},\"x_scale\":{\"id\":\"d6826dca-1e14-4b0b-a350-6e42f8a57003\",\"type\":\"LinearScale\"},\"y_range\":{\"id\":\"bc0010dd-1efa-48d5-a346-6a504fc3f02b\",\"type\":\"DataRange1d\"},\"y_scale\":{\"id\":\"8583cd62-7827-4682-a74e-37d345676ff3\",\"type\":\"LinearScale\"}},\"id\":\"6f61615f-2ad9-423b-8a09-d704668da9a4\",\"subtype\":\"Figure\",\"type\":\"Plot\"},{\"attributes\":{\"active_drag\":\"auto\",\"active_inspect\":\"auto\",\"active_scroll\":\"auto\",\"active_tap\":\"auto\",\"tools\":[{\"id\":\"9baffb9e-1bf0-4869-8758-6db91ed317cc\",\"type\":\"PanTool\"},{\"id\":\"96ca5dbb-732d-49ad-894a-2dd4cbc0bd13\",\"type\":\"WheelZoomTool\"},{\"id\":\"56499a79-b7f8-4709-9ca6-e6609e06ed01\",\"type\":\"BoxZoomTool\"},{\"id\":\"861ee8bb-7a51-4e42-a3e8-fea7c7be9769\",\"type\":\"SaveTool\"},{\"id\":\"e596e4c5-4170-4a5a-869b-493c856c46eb\",\"type\":\"ResetTool\"},{\"id\":\"af57e99c-5f9b-43b6-8701-94b280321c98\",\"type\":\"HelpTool\"}]},\"id\":\"1655c4dc-2a8e-45ea-a3c3-27a6e6e7e046\",\"type\":\"Toolbar\"},{\"attributes\":{\"fill_color\":{\"value\":\"#1f77b4\"},\"line_color\":{\"value\":\"#1f77b4\"},\"size\":{\"units\":\"screen\",\"value\":5},\"x\":{\"field\":\"x\"},\"y\":{\"field\":\"y\"}},\"id\":\"930919b2-f9bb-4d70-acd1-4ea74be27506\",\"type\":\"Circle\"},{\"attributes\":{\"plot\":null,\"text\":\"\"},\"id\":\"fc3a57fc-c2f5-4843-ba9c-5fec5ea31ddb\",\"type\":\"Title\"},{\"attributes\":{\"dimension\":1,\"plot\":{\"id\":\"6f61615f-2ad9-423b-8a09-d704668da9a4\",\"subtype\":\"Figure\",\"type\":\"Plot\"},\"ticker\":{\"id\":\"5aed310e-387c-4de7-9235-54c816053f82\",\"type\":\"BasicTicker\"}},\"id\":\"ea34ace3-da15-4c26-a070-e8caecf4b465\",\"type\":\"Grid\"},{\"attributes\":{},\"id\":\"af57e99c-5f9b-43b6-8701-94b280321c98\",\"type\":\"HelpTool\"},{\"attributes\":{\"callback\":null},\"id\":\"bc0010dd-1efa-48d5-a346-6a504fc3f02b\",\"type\":\"DataRange1d\"},{\"attributes\":{},\"id\":\"e596e4c5-4170-4a5a-869b-493c856c46eb\",\"type\":\"ResetTool\"},{\"attributes\":{},\"id\":\"013234cf-ff43-41fa-a1f9-402020c61e27\",\"type\":\"BasicTicker\"},{\"attributes\":{},\"id\":\"861ee8bb-7a51-4e42-a3e8-fea7c7be9769\",\"type\":\"SaveTool\"},{\"attributes\":{\"fill_alpha\":{\"value\":0.1},\"fill_color\":{\"value\":\"#1f77b4\"},\"line_alpha\":{\"value\":0.1},\"line_color\":{\"value\":\"#1f77b4\"},\"size\":{\"units\":\"screen\",\"value\":5},\"x\":{\"field\":\"x\"},\"y\":{\"field\":\"y\"}},\"id\":\"b0c1361e-c299-4b80-b520-275987ccc379\",\"type\":\"Circle\"},{\"attributes\":{\"callback\":null,\"column_names\":[\"x\",\"y\"],\"data\":{\"x\":{\"__ndarray__\":\"2ejQJP+CM0Dn9KY3vekzQG1okn/BWjRAenRokn/BNEBsgD6lPSg1QA70Ke1BmTVAAAAAAAAANkA=\",\"dtype\":\"float64\",\"shape\":[7]},\"y\":{\"__ndarray__\":\"cL+7IID3UUCwn53ZRwZTQCthFSyd8VJA18DAhxsfUkDG4jaouFZTQGEMRUOaB1JALuvkL60QVEA=\",\"dtype\":\"float64\",\"shape\":[7]}}},\"id\":\"e29ec66f-3f6f-4454-bd34-0344ef97372c\",\"type\":\"ColumnDataSource\"},{\"attributes\":{\"bottom_units\":\"screen\",\"fill_alpha\":{\"value\":0.5},\"fill_color\":{\"value\":\"lightgrey\"},\"left_units\":\"screen\",\"level\":\"overlay\",\"line_alpha\":{\"value\":1.0},\"line_color\":{\"value\":\"black\"},\"line_dash\":[4,4],\"line_width\":{\"value\":2},\"plot\":null,\"render_mode\":\"css\",\"right_units\":\"screen\",\"top_units\":\"screen\"},\"id\":\"e14f8fef-6a58-4060-8b4f-6feb373414ff\",\"type\":\"BoxAnnotation\"},{\"attributes\":{\"callback\":null},\"id\":\"11abe498-561d-4991-aefd-888a41f02829\",\"type\":\"DataRange1d\"},{\"attributes\":{\"overlay\":{\"id\":\"e14f8fef-6a58-4060-8b4f-6feb373414ff\",\"type\":\"BoxAnnotation\"}},\"id\":\"56499a79-b7f8-4709-9ca6-e6609e06ed01\",\"type\":\"BoxZoomTool\"}],\"root_ids\":[\"6f61615f-2ad9-423b-8a09-d704668da9a4\"]},\"title\":\"Bokeh Application\",\"version\":\"0.12.10\"}};\n",
       "    var render_items = [{\"docid\":\"120424ab-7c78-4c1d-b8e1-4439ac0c0f2f\",\"elementid\":\"2a16f0c4-7e34-44cc-9362-8ca297c18c50\",\"modelid\":\"6f61615f-2ad9-423b-8a09-d704668da9a4\"}];\n",
       "\n",
       "    root.Bokeh.embed.embed_items(docs_json, render_items);\n",
       "  }\n",
       "\n",
       "  if (root.Bokeh !== undefined) {\n",
       "    embed_document(root);\n",
       "  } else {\n",
       "    var attempts = 0;\n",
       "    var timer = setInterval(function(root) {\n",
       "      if (root.Bokeh !== undefined) {\n",
       "        embed_document(root);\n",
       "        clearInterval(timer);\n",
       "      }\n",
       "      attempts++;\n",
       "      if (attempts > 100) {\n",
       "        console.log(\"Bokeh: ERROR: Unable to embed document because BokehJS library is missing\")\n",
       "        clearInterval(timer);\n",
       "      }\n",
       "    }, 10, root)\n",
       "  }\n",
       "})(window);"
      ],
      "application/vnd.bokehjs_exec.v0+json": ""
     },
     "metadata": {
      "application/vnd.bokehjs_exec.v0+json": {
       "id": "6f61615f-2ad9-423b-8a09-d704668da9a4"
      }
     },
     "output_type": "display_data"
    }
   ],
   "source": [
    "plot = figure(plot_width=300, plot_height=300, x_axis_label='Education', y_axis_label='Income')\n",
    "plot.scatter(x=x_test_education, y=y_test_income, size=5)\n",
    "show(plot)"
   ]
  },
  {
   "cell_type": "code",
   "execution_count": null,
   "metadata": {},
   "outputs": [],
   "source": []
  },
  {
   "cell_type": "code",
   "execution_count": null,
   "metadata": {},
   "outputs": [],
   "source": []
  },
  {
   "cell_type": "code",
   "execution_count": null,
   "metadata": {
    "collapsed": true
   },
   "outputs": [],
   "source": []
  }
 ],
 "metadata": {
  "kernelspec": {
   "display_name": "Python 3",
   "language": "python",
   "name": "python3"
  },
  "language_info": {
   "codemirror_mode": {
    "name": "ipython",
    "version": 3
   },
   "file_extension": ".py",
   "mimetype": "text/x-python",
   "name": "python",
   "nbconvert_exporter": "python",
   "pygments_lexer": "ipython3",
   "version": "3.6.3"
  }
 },
 "nbformat": 4,
 "nbformat_minor": 2
}
